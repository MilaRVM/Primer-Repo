{
  "nbformat": 4,
  "nbformat_minor": 0,
  "metadata": {
    "colab": {
      "provenance": [],
      "authorship_tag": "ABX9TyNNL0AdtaDxmnzrqsbPxpxl",
      "include_colab_link": true
    },
    "kernelspec": {
      "name": "python3",
      "display_name": "Python 3"
    },
    "language_info": {
      "name": "python"
    }
  },
  "cells": [
    {
      "cell_type": "markdown",
      "metadata": {
        "id": "view-in-github",
        "colab_type": "text"
      },
      "source": [
        "<a href=\"https://colab.research.google.com/github/MilaRVM/Primer-Repo/blob/main/Copia_de_Untitled30.ipynb\" target=\"_parent\"><img src=\"https://colab.research.google.com/assets/colab-badge.svg\" alt=\"Open In Colab\"/></a>"
      ]
    },
    {
      "cell_type": "code",
      "execution_count": null,
      "metadata": {
        "colab": {
          "base_uri": "https://localhost:8080/"
        },
        "id": "hnVcsCiK7XeG",
        "outputId": "e079af79-dec4-44d9-aa6c-c734333fca49"
      },
      "outputs": [
        {
          "output_type": "stream",
          "name": "stdout",
          "text": [
            "Requirement already satisfied: cryptography in /usr/local/lib/python3.12/dist-packages (43.0.3)\n",
            "Requirement already satisfied: cffi>=1.12 in /usr/local/lib/python3.12/dist-packages (from cryptography) (2.0.0)\n",
            "Requirement already satisfied: pycparser in /usr/local/lib/python3.12/dist-packages (from cffi>=1.12->cryptography) (2.23)\n"
          ]
        }
      ],
      "source": [
        "pip install cryptography"
      ]
    },
    {
      "cell_type": "code",
      "source": [
        "!python fernet_demo.py"
      ],
      "metadata": {
        "colab": {
          "base_uri": "https://localhost:8080/"
        },
        "id": "sM1ZclIB8FZJ",
        "outputId": "556db7cb-ff28-4a03-88eb-ea4b96d8d2e2"
      },
      "execution_count": null,
      "outputs": [
        {
          "output_type": "stream",
          "name": "stdout",
          "text": [
            "python3: can't open file '/content/fernet_demo.py': [Errno 2] No such file or directory\n"
          ]
        }
      ]
    },
    {
      "cell_type": "code",
      "source": [
        "from cryptography.fernet import Fernet"
      ],
      "metadata": {
        "id": "a5xgIyPY8OWn"
      },
      "execution_count": null,
      "outputs": []
    },
    {
      "cell_type": "code",
      "source": [
        "key = Fernet.generate_key()\n",
        "f = Fernet(key)\n"
      ],
      "metadata": {
        "id": "aO2Laem78bLv"
      },
      "execution_count": null,
      "outputs": []
    },
    {
      "cell_type": "code",
      "source": [
        "message = \" Me llamo Milagros Velapatiño, estudie derecho en la PUCP, tengo estudios de Legaltech, de legal analytics y de inteligencia artificial y derecho, trabajo en el area legal de la Dirección de Innovación Tecnológica del Minedu\""
      ],
      "metadata": {
        "id": "-3EsYLcA8gXg"
      },
      "execution_count": null,
      "outputs": []
    },
    {
      "cell_type": "code",
      "source": [
        "token = f.encrypt(message.encode('utf-8'))\n"
      ],
      "metadata": {
        "id": "0K6__wb08xTY"
      },
      "execution_count": null,
      "outputs": []
    },
    {
      "cell_type": "code",
      "source": [
        "print(token)"
      ],
      "metadata": {
        "colab": {
          "base_uri": "https://localhost:8080/"
        },
        "id": "qXXJWmh585vQ",
        "outputId": "e54dce1f-9406-486d-9071-10a347ae40a2"
      },
      "execution_count": null,
      "outputs": [
        {
          "output_type": "stream",
          "name": "stdout",
          "text": [
            "b'gAAAAABo3_1s8mIJbejZfRbXsVOi6727oac7DEoFmUoG2O4K1WFOXmHfnLZ0PMrPWNzgvykn3MyXWwBUMlcLwcoYsViqYUrraSqrIIJTtwG0Zv1HcBCWCTMAIjUGTiDCgiC_lUxMCaNwilfq-kLgF3rD6dLTTY1tgku-fu-ekVFZqpgidXinsAHHb2WkaPVcbdp2P3qim1DwNcQ3lwbK8n6knP9cMMO1x-8ycurbg1OhJnX5TgvXsAb5NE752Gsp2Xf-Mf3UsZJFqm4vYtbSvNIkP1GAFT9LtH5rXHS35hqjKcIZqv8x3A2STn9WjQbTA0WjlTbVyXHcU-KcexfsDNNUJ_bhh1WoUhZCi8servZoXNrCI4R4wJSivU-hlRfGSq7d1-MEYOls'\n"
          ]
        }
      ]
    },
    {
      "cell_type": "code",
      "source": [
        "key"
      ],
      "metadata": {
        "colab": {
          "base_uri": "https://localhost:8080/"
        },
        "id": "U2j3wJ0t89Hw",
        "outputId": "fac1a7a8-3d18-430a-9eb7-1a06994cffc2"
      },
      "execution_count": null,
      "outputs": [
        {
          "output_type": "execute_result",
          "data": {
            "text/plain": [
              "b'GrjWkUaSYyJJ51mqm-H0-wY_4CXiJDYTI6qappvARXs='"
            ]
          },
          "metadata": {},
          "execution_count": 16
        }
      ]
    },
    {
      "cell_type": "code",
      "source": [
        "token"
      ],
      "metadata": {
        "colab": {
          "base_uri": "https://localhost:8080/"
        },
        "id": "yt1UYihT9BQi",
        "outputId": "937d41ed-47e7-4402-b8c2-27a6d39740fc"
      },
      "execution_count": null,
      "outputs": [
        {
          "output_type": "execute_result",
          "data": {
            "text/plain": [
              "b'gAAAAABo3_1s8mIJbejZfRbXsVOi6727oac7DEoFmUoG2O4K1WFOXmHfnLZ0PMrPWNzgvykn3MyXWwBUMlcLwcoYsViqYUrraSqrIIJTtwG0Zv1HcBCWCTMAIjUGTiDCgiC_lUxMCaNwilfq-kLgF3rD6dLTTY1tgku-fu-ekVFZqpgidXinsAHHb2WkaPVcbdp2P3qim1DwNcQ3lwbK8n6knP9cMMO1x-8ycurbg1OhJnX5TgvXsAb5NE752Gsp2Xf-Mf3UsZJFqm4vYtbSvNIkP1GAFT9LtH5rXHS35hqjKcIZqv8x3A2STn9WjQbTA0WjlTbVyXHcU-KcexfsDNNUJ_bhh1WoUhZCi8servZoXNrCI4R4wJSivU-hlRfGSq7d1-MEYOls'"
            ]
          },
          "metadata": {},
          "execution_count": 17
        }
      ]
    },
    {
      "cell_type": "code",
      "source": [
        "decrypted_message = f.decrypt(token).decode('utf-8')\n",
        "print(decrypted_message)"
      ],
      "metadata": {
        "colab": {
          "base_uri": "https://localhost:8080/"
        },
        "id": "U8L4Q1zF9ENY",
        "outputId": "f86d51d2-20da-469e-c128-89fca60a3d59"
      },
      "execution_count": null,
      "outputs": [
        {
          "output_type": "stream",
          "name": "stdout",
          "text": [
            " Me llamo Milagros Velapatiño, estudie derecho en la PUCP, tengo estudios de Legaltech, de legal analytics y de inteligencia artificial y derecho, trabajo en el area legal de la Dirección de Innovación Tecnológica del Minedu\n"
          ]
        }
      ]
    }
  ]
}