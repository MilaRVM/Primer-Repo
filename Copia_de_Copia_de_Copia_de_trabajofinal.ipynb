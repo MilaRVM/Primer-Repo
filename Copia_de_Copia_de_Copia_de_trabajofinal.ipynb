{
  "nbformat": 4,
  "nbformat_minor": 0,
  "metadata": {
    "colab": {
      "provenance": [],
      "authorship_tag": "ABX9TyN4rJERudXnyE5l8SpWYnYl",
      "include_colab_link": true
    },
    "kernelspec": {
      "name": "python3",
      "display_name": "Python 3"
    },
    "language_info": {
      "name": "python"
    }
  },
  "cells": [
    {
      "cell_type": "markdown",
      "metadata": {
        "id": "view-in-github",
        "colab_type": "text"
      },
      "source": [
        "<a href=\"https://colab.research.google.com/github/MilaRVM/Primer-Repo/blob/main/Copia_de_Copia_de_Copia_de_trabajofinal.ipynb\" target=\"_parent\"><img src=\"https://colab.research.google.com/assets/colab-badge.svg\" alt=\"Open In Colab\"/></a>"
      ]
    },
    {
      "cell_type": "code",
      "execution_count": null,
      "metadata": {
        "colab": {
          "base_uri": "https://localhost:8080/",
          "height": 71
        },
        "id": "ls0pUpwUKzeg",
        "outputId": "69195564-7400-4086-f904-7c25d388818c"
      },
      "outputs": [
        {
          "output_type": "display_data",
          "data": {
            "text/plain": [
              "<IPython.core.display.HTML object>"
            ],
            "text/html": [
              "\n",
              "     <input type=\"file\" id=\"files-a4cca4cd-bf95-476f-b19b-09b319fe86ae\" name=\"files[]\" multiple disabled\n",
              "        style=\"border:none\" />\n",
              "     <output id=\"result-a4cca4cd-bf95-476f-b19b-09b319fe86ae\">\n",
              "      Upload widget is only available when the cell has been executed in the\n",
              "      current browser session. Please rerun this cell to enable.\n",
              "      </output>\n",
              "      <script>// Copyright 2017 Google LLC\n",
              "//\n",
              "// Licensed under the Apache License, Version 2.0 (the \"License\");\n",
              "// you may not use this file except in compliance with the License.\n",
              "// You may obtain a copy of the License at\n",
              "//\n",
              "//      http://www.apache.org/licenses/LICENSE-2.0\n",
              "//\n",
              "// Unless required by applicable law or agreed to in writing, software\n",
              "// distributed under the License is distributed on an \"AS IS\" BASIS,\n",
              "// WITHOUT WARRANTIES OR CONDITIONS OF ANY KIND, either express or implied.\n",
              "// See the License for the specific language governing permissions and\n",
              "// limitations under the License.\n",
              "\n",
              "/**\n",
              " * @fileoverview Helpers for google.colab Python module.\n",
              " */\n",
              "(function(scope) {\n",
              "function span(text, styleAttributes = {}) {\n",
              "  const element = document.createElement('span');\n",
              "  element.textContent = text;\n",
              "  for (const key of Object.keys(styleAttributes)) {\n",
              "    element.style[key] = styleAttributes[key];\n",
              "  }\n",
              "  return element;\n",
              "}\n",
              "\n",
              "// Max number of bytes which will be uploaded at a time.\n",
              "const MAX_PAYLOAD_SIZE = 100 * 1024;\n",
              "\n",
              "function _uploadFiles(inputId, outputId) {\n",
              "  const steps = uploadFilesStep(inputId, outputId);\n",
              "  const outputElement = document.getElementById(outputId);\n",
              "  // Cache steps on the outputElement to make it available for the next call\n",
              "  // to uploadFilesContinue from Python.\n",
              "  outputElement.steps = steps;\n",
              "\n",
              "  return _uploadFilesContinue(outputId);\n",
              "}\n",
              "\n",
              "// This is roughly an async generator (not supported in the browser yet),\n",
              "// where there are multiple asynchronous steps and the Python side is going\n",
              "// to poll for completion of each step.\n",
              "// This uses a Promise to block the python side on completion of each step,\n",
              "// then passes the result of the previous step as the input to the next step.\n",
              "function _uploadFilesContinue(outputId) {\n",
              "  const outputElement = document.getElementById(outputId);\n",
              "  const steps = outputElement.steps;\n",
              "\n",
              "  const next = steps.next(outputElement.lastPromiseValue);\n",
              "  return Promise.resolve(next.value.promise).then((value) => {\n",
              "    // Cache the last promise value to make it available to the next\n",
              "    // step of the generator.\n",
              "    outputElement.lastPromiseValue = value;\n",
              "    return next.value.response;\n",
              "  });\n",
              "}\n",
              "\n",
              "/**\n",
              " * Generator function which is called between each async step of the upload\n",
              " * process.\n",
              " * @param {string} inputId Element ID of the input file picker element.\n",
              " * @param {string} outputId Element ID of the output display.\n",
              " * @return {!Iterable<!Object>} Iterable of next steps.\n",
              " */\n",
              "function* uploadFilesStep(inputId, outputId) {\n",
              "  const inputElement = document.getElementById(inputId);\n",
              "  inputElement.disabled = false;\n",
              "\n",
              "  const outputElement = document.getElementById(outputId);\n",
              "  outputElement.innerHTML = '';\n",
              "\n",
              "  const pickedPromise = new Promise((resolve) => {\n",
              "    inputElement.addEventListener('change', (e) => {\n",
              "      resolve(e.target.files);\n",
              "    });\n",
              "  });\n",
              "\n",
              "  const cancel = document.createElement('button');\n",
              "  inputElement.parentElement.appendChild(cancel);\n",
              "  cancel.textContent = 'Cancel upload';\n",
              "  const cancelPromise = new Promise((resolve) => {\n",
              "    cancel.onclick = () => {\n",
              "      resolve(null);\n",
              "    };\n",
              "  });\n",
              "\n",
              "  // Wait for the user to pick the files.\n",
              "  const files = yield {\n",
              "    promise: Promise.race([pickedPromise, cancelPromise]),\n",
              "    response: {\n",
              "      action: 'starting',\n",
              "    }\n",
              "  };\n",
              "\n",
              "  cancel.remove();\n",
              "\n",
              "  // Disable the input element since further picks are not allowed.\n",
              "  inputElement.disabled = true;\n",
              "\n",
              "  if (!files) {\n",
              "    return {\n",
              "      response: {\n",
              "        action: 'complete',\n",
              "      }\n",
              "    };\n",
              "  }\n",
              "\n",
              "  for (const file of files) {\n",
              "    const li = document.createElement('li');\n",
              "    li.append(span(file.name, {fontWeight: 'bold'}));\n",
              "    li.append(span(\n",
              "        `(${file.type || 'n/a'}) - ${file.size} bytes, ` +\n",
              "        `last modified: ${\n",
              "            file.lastModifiedDate ? file.lastModifiedDate.toLocaleDateString() :\n",
              "                                    'n/a'} - `));\n",
              "    const percent = span('0% done');\n",
              "    li.appendChild(percent);\n",
              "\n",
              "    outputElement.appendChild(li);\n",
              "\n",
              "    const fileDataPromise = new Promise((resolve) => {\n",
              "      const reader = new FileReader();\n",
              "      reader.onload = (e) => {\n",
              "        resolve(e.target.result);\n",
              "      };\n",
              "      reader.readAsArrayBuffer(file);\n",
              "    });\n",
              "    // Wait for the data to be ready.\n",
              "    let fileData = yield {\n",
              "      promise: fileDataPromise,\n",
              "      response: {\n",
              "        action: 'continue',\n",
              "      }\n",
              "    };\n",
              "\n",
              "    // Use a chunked sending to avoid message size limits. See b/62115660.\n",
              "    let position = 0;\n",
              "    do {\n",
              "      const length = Math.min(fileData.byteLength - position, MAX_PAYLOAD_SIZE);\n",
              "      const chunk = new Uint8Array(fileData, position, length);\n",
              "      position += length;\n",
              "\n",
              "      const base64 = btoa(String.fromCharCode.apply(null, chunk));\n",
              "      yield {\n",
              "        response: {\n",
              "          action: 'append',\n",
              "          file: file.name,\n",
              "          data: base64,\n",
              "        },\n",
              "      };\n",
              "\n",
              "      let percentDone = fileData.byteLength === 0 ?\n",
              "          100 :\n",
              "          Math.round((position / fileData.byteLength) * 100);\n",
              "      percent.textContent = `${percentDone}% done`;\n",
              "\n",
              "    } while (position < fileData.byteLength);\n",
              "  }\n",
              "\n",
              "  // All done.\n",
              "  yield {\n",
              "    response: {\n",
              "      action: 'complete',\n",
              "    }\n",
              "  };\n",
              "}\n",
              "\n",
              "scope.google = scope.google || {};\n",
              "scope.google.colab = scope.google.colab || {};\n",
              "scope.google.colab._files = {\n",
              "  _uploadFiles,\n",
              "  _uploadFilesContinue,\n",
              "};\n",
              "})(self);\n",
              "</script> "
            ]
          },
          "metadata": {}
        },
        {
          "output_type": "stream",
          "name": "stdout",
          "text": [
            "Saving DISCRIMINACIÓN.zip to DISCRIMINACIÓN.zip\n"
          ]
        }
      ],
      "source": [
        "from google.colab import files\n",
        "\n",
        "uploaded = files.upload()"
      ]
    },
    {
      "cell_type": "code",
      "source": [
        "import zipfile\n",
        "import os"
      ],
      "metadata": {
        "id": "syO4z7LGP0s5"
      },
      "execution_count": null,
      "outputs": []
    },
    {
      "cell_type": "code",
      "source": [
        "zip_path = \"/content/DISCRIMINACIÓN.zip\""
      ],
      "metadata": {
        "id": "HJGdeIgjP2-5"
      },
      "execution_count": null,
      "outputs": []
    },
    {
      "cell_type": "code",
      "source": [
        "extract_path = \"/content/DISCRIMINACIÓN\""
      ],
      "metadata": {
        "id": "7zF7tGxeP7Sg"
      },
      "execution_count": null,
      "outputs": []
    },
    {
      "cell_type": "code",
      "source": [
        "with zipfile.ZipFile(zip_path, 'r') as zip_ref:\n",
        "    zip_ref.extractall(extract_path)"
      ],
      "metadata": {
        "id": "2bqWqzVjP_Cw"
      },
      "execution_count": null,
      "outputs": []
    },
    {
      "cell_type": "code",
      "source": [
        "extracted_files = []\n",
        "for root, dirs, files in os.walk(extract_path):\n",
        "    for file in files:\n",
        "        extracted_files.append(os.path.join(root, file))"
      ],
      "metadata": {
        "id": "W3dwiSDrQDux"
      },
      "execution_count": null,
      "outputs": []
    },
    {
      "cell_type": "code",
      "source": [
        "!pip install PyPDF2 scikit-learn pandas"
      ],
      "metadata": {
        "colab": {
          "base_uri": "https://localhost:8080/"
        },
        "id": "ZEHxcps1QHt4",
        "outputId": "0a6259fd-202b-4b36-a045-820f3163efff"
      },
      "execution_count": null,
      "outputs": [
        {
          "output_type": "stream",
          "name": "stdout",
          "text": [
            "Collecting PyPDF2\n",
            "  Downloading pypdf2-3.0.1-py3-none-any.whl.metadata (6.8 kB)\n",
            "Requirement already satisfied: scikit-learn in /usr/local/lib/python3.11/dist-packages (1.6.1)\n",
            "Requirement already satisfied: pandas in /usr/local/lib/python3.11/dist-packages (2.2.2)\n",
            "Requirement already satisfied: numpy>=1.19.5 in /usr/local/lib/python3.11/dist-packages (from scikit-learn) (1.26.4)\n",
            "Requirement already satisfied: scipy>=1.6.0 in /usr/local/lib/python3.11/dist-packages (from scikit-learn) (1.14.1)\n",
            "Requirement already satisfied: joblib>=1.2.0 in /usr/local/lib/python3.11/dist-packages (from scikit-learn) (1.4.2)\n",
            "Requirement already satisfied: threadpoolctl>=3.1.0 in /usr/local/lib/python3.11/dist-packages (from scikit-learn) (3.5.0)\n",
            "Requirement already satisfied: python-dateutil>=2.8.2 in /usr/local/lib/python3.11/dist-packages (from pandas) (2.8.2)\n",
            "Requirement already satisfied: pytz>=2020.1 in /usr/local/lib/python3.11/dist-packages (from pandas) (2025.1)\n",
            "Requirement already satisfied: tzdata>=2022.7 in /usr/local/lib/python3.11/dist-packages (from pandas) (2025.1)\n",
            "Requirement already satisfied: six>=1.5 in /usr/local/lib/python3.11/dist-packages (from python-dateutil>=2.8.2->pandas) (1.17.0)\n",
            "Downloading pypdf2-3.0.1-py3-none-any.whl (232 kB)\n",
            "\u001b[2K   \u001b[90m━━━━━━━━━━━━━━━━━━━━━━━━━━━━━━━━━━━━━━━━\u001b[0m \u001b[32m232.6/232.6 kB\u001b[0m \u001b[31m3.7 MB/s\u001b[0m eta \u001b[36m0:00:00\u001b[0m\n",
            "\u001b[?25hInstalling collected packages: PyPDF2\n",
            "Successfully installed PyPDF2-3.0.1\n"
          ]
        }
      ]
    },
    {
      "cell_type": "code",
      "source": [
        "import os\n",
        "import re\n",
        "import pandas as pd\n",
        "from PyPDF2 import PdfReader\n",
        "from sklearn.feature_extraction.text import TfidfVectorizer\n",
        "from sklearn.cluster import KMeans"
      ],
      "metadata": {
        "id": "_Pexk9isQN4R"
      },
      "execution_count": null,
      "outputs": []
    },
    {
      "cell_type": "code",
      "source": [
        "def extract_text_from_pdf(pdf_path):\n",
        "    text = \"\"\n",
        "    with open(pdf_path, \"rb\") as file:\n",
        "        reader = PdfReader(file)\n",
        "        for page in reader.pages:\n",
        "            text += page.extract_text() if page.extract_text() else \"\"\n",
        "    return text"
      ],
      "metadata": {
        "id": "ZjKrXAdpQUoy"
      },
      "execution_count": null,
      "outputs": []
    },
    {
      "cell_type": "code",
      "source": [
        "pdf_texts = {}\n",
        "for pdf_file in extracted_files:\n",
        "    pdf_texts[pdf_file] = extract_text_from_pdf(pdf_file)\n"
      ],
      "metadata": {
        "colab": {
          "base_uri": "https://localhost:8080/"
        },
        "id": "59beFnTDQcIp",
        "outputId": "4357b3d0-6c8a-40aa-d20e-4a26653fcd03"
      },
      "execution_count": null,
      "outputs": [
        {
          "output_type": "stream",
          "name": "stderr",
          "text": [
            "WARNING:PyPDF2._cmap:unknown widths : \n",
            "[0, IndirectObject(203, 0, 140700948387600)]\n",
            "WARNING:PyPDF2._cmap:unknown widths : \n",
            "[0, IndirectObject(207, 0, 140700948387600)]\n",
            "WARNING:PyPDF2._cmap:unknown widths : \n",
            "[0, IndirectObject(211, 0, 140700948387600)]\n",
            "WARNING:PyPDF2._cmap:unknown widths : \n",
            "[0, IndirectObject(215, 0, 140700948387600)]\n",
            "WARNING:PyPDF2._cmap:unknown widths : \n",
            "[0, IndirectObject(219, 0, 140700948387600)]\n",
            "WARNING:PyPDF2._cmap:unknown widths : \n",
            "[0, IndirectObject(223, 0, 140700948387600)]\n",
            "WARNING:PyPDF2._cmap:unknown widths : \n",
            "[0, IndirectObject(227, 0, 140700948387600)]\n",
            "WARNING:PyPDF2._cmap:unknown widths : \n",
            "[0, IndirectObject(231, 0, 140700948387600)]\n",
            "WARNING:PyPDF2._cmap:unknown widths : \n",
            "[0, IndirectObject(235, 0, 140700948387600)]\n",
            "WARNING:PyPDF2._cmap:unknown widths : \n",
            "[0, IndirectObject(239, 0, 140700948387600)]\n",
            "WARNING:PyPDF2._cmap:unknown widths : \n",
            "[0, IndirectObject(243, 0, 140700948387600)]\n",
            "WARNING:PyPDF2._cmap:unknown widths : \n",
            "[0, IndirectObject(247, 0, 140700948387600)]\n",
            "WARNING:PyPDF2._cmap:unknown widths : \n",
            "[0, IndirectObject(251, 0, 140700948387600)]\n",
            "WARNING:PyPDF2._cmap:unknown widths : \n",
            "[0, IndirectObject(255, 0, 140700948387600)]\n",
            "WARNING:PyPDF2._cmap:unknown widths : \n",
            "[0, IndirectObject(259, 0, 140700948387600)]\n",
            "WARNING:PyPDF2._cmap:unknown widths : \n",
            "[0, IndirectObject(203, 0, 140700948387600)]\n",
            "WARNING:PyPDF2._cmap:unknown widths : \n",
            "[0, IndirectObject(207, 0, 140700948387600)]\n",
            "WARNING:PyPDF2._cmap:unknown widths : \n",
            "[0, IndirectObject(211, 0, 140700948387600)]\n",
            "WARNING:PyPDF2._cmap:unknown widths : \n",
            "[0, IndirectObject(215, 0, 140700948387600)]\n",
            "WARNING:PyPDF2._cmap:unknown widths : \n",
            "[0, IndirectObject(219, 0, 140700948387600)]\n",
            "WARNING:PyPDF2._cmap:unknown widths : \n",
            "[0, IndirectObject(223, 0, 140700948387600)]\n",
            "WARNING:PyPDF2._cmap:unknown widths : \n",
            "[0, IndirectObject(227, 0, 140700948387600)]\n",
            "WARNING:PyPDF2._cmap:unknown widths : \n",
            "[0, IndirectObject(231, 0, 140700948387600)]\n",
            "WARNING:PyPDF2._cmap:unknown widths : \n",
            "[0, IndirectObject(235, 0, 140700948387600)]\n",
            "WARNING:PyPDF2._cmap:unknown widths : \n",
            "[0, IndirectObject(239, 0, 140700948387600)]\n",
            "WARNING:PyPDF2._cmap:unknown widths : \n",
            "[0, IndirectObject(243, 0, 140700948387600)]\n",
            "WARNING:PyPDF2._cmap:unknown widths : \n",
            "[0, IndirectObject(247, 0, 140700948387600)]\n",
            "WARNING:PyPDF2._cmap:unknown widths : \n",
            "[0, IndirectObject(251, 0, 140700948387600)]\n",
            "WARNING:PyPDF2._cmap:unknown widths : \n",
            "[0, IndirectObject(255, 0, 140700948387600)]\n",
            "WARNING:PyPDF2._cmap:unknown widths : \n",
            "[0, IndirectObject(259, 0, 140700948387600)]\n"
          ]
        }
      ]
    },
    {
      "cell_type": "code",
      "source": [
        "preview_texts = {k: v[:500] for k, v in pdf_texts.items()}  # Solo los primeros 500 caracteres\n",
        "print(preview_texts)"
      ],
      "metadata": {
        "colab": {
          "base_uri": "https://localhost:8080/"
        },
        "id": "Pb9VCaanQq9i",
        "outputId": "ac1e9025-5884-4604-afc6-9d688269e5f7"
      },
      "execution_count": null,
      "outputs": [
        {
          "output_type": "stream",
          "name": "stdout",
          "text": [
            "{'/content/DISCRIMINACIÓN/DISCRIMINACIαN/DISCRIMINACION6.pdf': ' \\n \\n \\n \\n \\n \\n1 \\nM-CPC -05/01 \\n \\nINSTITUTO NACIONAL DE DEFENSA DE LA COMPETENCIA Y DE LA PROTECCIÓN DE LA PROPIEDAD INTELECTUAL  \\nCalle De la Prosa 104, San Borja, Lima 41 - Perú Telf: 224 7800 / Fax: 224 0348  \\nE-mail: postmaster@indecopi.gob.pe / Web: www.indecopi.gob.pe  \\nCOMISIÓN DE PROTECCIÓN AL CONSUMIDOR N° 2  \\nSEDE CENTRAL   \\nEXPEDIENTE N° 698-2022 /CC2   \\n \\n \\n \\nRESOLUCIÓN FINAL N° 2382 -2022/CC2  \\n \\nDENUNCIANTE   : JULIO ERNESTO PERALTA TORRES  \\n  (El SEÑOR PERALTA )  \\nDENUNCIADO         ', '/content/DISCRIMINACIÓN/DISCRIMINACIαN/DISCRIMINACIOnN.pdf': 'TRIBUNAL DE DEFENSA DE LA COMPETENCIA  \\n Y DE LA PROPIEDAD INTELECTUAL  \\n           Sala Especializada en Protección al Consumidor  \\n \\nRESOLUCIÓN 1848 -2023/SPC -INDECOPI  \\n \\nEXPEDIENTE 0879 -2020/CC2  \\n \\n \\n \\nM-SPC-13/1B     1/25 \\n \\n \\nINSTITUTO NACIONAL DE DEFENSA DE LA COMPETENCIA Y DE LA PROTECCIÓN DE LA PROPIEDAD INTELECTUAL  \\nCalle De la Prosa 104, San Borja, Lima 41 - Perú Telf: 224 7800 / Fax: 224 0348  \\nE-mail: postmaster@indecopi.gob.pe / Web: www.indecopi.gob.pe  \\nPROCEDENCIA  :  COMISI', '/content/DISCRIMINACIÓN/DISCRIMINACIαN/DISCRIMINACION1.pdf': '\\xa0\\n\\xa0 TRIBUNAL\\xa0DE\\xa0DEFENSA\\xa0DE\\xa0LA\\xa0COMPETENCIA\\xa0\\nY\\xa0DE\\xa0LA\\xa0PROPIEDAD\\xa0INTELECTUAL\\xa0\\nSala\\xa0Especializada\\xa0en\\xa0Protección\\xa0al\\xa0Consumidor\\xa0\\n\\xa0\\nRESOLUCIÓN\\xa03255\\xad2015/SPC\\xadINDECOPI\\xa0\\n\\xa0\\nEXPEDIENTE\\xa0325\\xad2014/ILN\\xadCPC\\xa0\\n\\xa0\\n\\xa0\\nPROCEDENCIA:COMISIÓNDEPROTECCIÓNALCONSUMIDOR– \\xa0\\xa0 \\xa0\\xa0 \\xa0\\xa0\\nSEDE\\xa0LIMA\\xa0NORTE\\xa0\\nPROCEDIMIENTO:\\xa0DE\\xa0PARTE\\xa0\\nDENUNCIANTES:JULIO\\xa0CÉSAR\\xa0LAVALLE\\xa0SOTILLO\\xa0\\nJOUSTIN\\xa0DALTTON\\xa0RODRÍGUEZ\\xa0SALAZAR\\xa0\\nDENUNCIADA :MALLSERVICES.A.C.\\xadCENTROCOMERCIAL \\xa0 \\xa0\\xa0\\xa0 \\xa0 \\xa0\\nPLAZA\\xa0SAN\\xa0MIGUEL\\xa0\\nMATERIA :DISCRIMINACIÓN\\xa0EN\\xa0EL\\xa0CONSUMO\\xa0\\nACTIVIDAD :ACTIVIDA', '/content/DISCRIMINACIÓN/DISCRIMINACIαN/DISCRIMINACION4.pdf': '/\"■ , . . Presidencia \\ndel Consejo de Ministros -TRIBUNAL DE DEFENSA DE LA COMPETENCIA \\nY DE LA PROPIEDAD INTELECTUAL \\nSala Especializada en Protección al Consumidor \\nRESOLUCIÓN 0735-2022//SPC-INDECOPI \\nEXPEDIENTE 0077-2019/CPC-INDE COPI-CHT \\nPROCEDENCIA \\nPROCEDIMIENTO \\nDENUNCIANTE COMISIÓN DE LA OFICINA REGIONAL DEL INDECOPI \\nDE ÁNCASH -SEDE CHIMBOTE \\nDE PARTE \\nDENUNCIADAS \\nMATERIA \\nACTIVIDAD INMUEBLES PANAMERICANA S.A. \\nAL TEK TRADING S.A.C. \\nDISCRIM INACIÓN \\nINMOBILIARIAS POR RETRIBUCIÓN \\nSUM', '/content/DISCRIMINACIÓN/DISCRIMINACIαN/DISCRIMINACION5.pdf': 'TRIBUNAL DE DEFENSA DE LA COMPETENCIA  \\n Y DE LA PROPIEDAD INTELECTUAL  \\n  Sala Especializada en Protección al Consumidor  \\n \\nRESOLUCIÓN 0175 -2021 /SPC -INDECOPI  \\n \\nEXPEDIENTE 185-2019/CPC -INDECOPI -JUN \\n \\n \\nM-SPC-13/1B       1/39 \\n  \\nINSTITUTO NACIONAL DE DEFENSA DE LA COMPETENCIA Y DE LA PROTECCIÓN DE LA PROPIEDAD INTELECTUAL  \\nCalle De la Prosa 104, San Borja, Lima 41 - Perú Telf: 224 7800 / Fax: 224 0348  \\nE-mail: postmaster@indecopi.gob.pe / Web: www.indecopi.gob.pe  \\nPROCEDENCIA  : COMI', '/content/DISCRIMINACIÓN/DISCRIMINACIαN/DISCRIMINACION 7.pdf': 'TRIBUNAL DE DEFENSA DE LA COMPETENCIA  \\n Y DE LA PROPIEDAD INTELECTUAL  \\n           Sala Especializada en Protección al Consumidor  \\n \\nRESOLUCIÓN 1848 -2023/SPC -INDECOPI  \\n \\nEXPEDIENTE 0879 -2020/CC2  \\n \\n \\n \\nM-SPC-13/1B     1/25 \\n \\n \\nINSTITUTO NACIONAL DE DEFENSA DE LA COMPETENCIA Y DE LA PROTECCIÓN DE LA PROPIEDAD INTELECTUAL  \\nCalle De la Prosa 104, San Borja, Lima 41 - Perú Telf: 224 7800 / Fax: 224 0348  \\nE-mail: postmaster@indecopi.gob.pe / Web: www.indecopi.gob.pe  \\nPROCEDENCIA  :  COMISI', '/content/DISCRIMINACIÓN/DISCRIMINACIαN/DISCRIMINACION3.pdf': ' TRIBUNAL DE DEFENSA DE LA COMPETENCIA  \\nY DE LA PROPIEDAD INTELECTUAL  \\nSala Especi alizada en Protección al Consumidor  \\nRESOLUCIÓN 2129 -2018/SPC -INDECOPI  \\n \\nEXPEDIENTE 227 -2017/CPC -INDECOPI -PIU \\n \\n  \\n \\nM-SPC-13/1B                                                                     1/24 PROCEDENC IA :   COMISIÓN DE LA OFICINA REGIONAL DEL \\nINDECOPI DE PIURA  \\nPROCEDIMIENTO  : DE PARTE  \\nDENUNCIANTE  : VANIA MAITÉ GALA PALMERO  \\nDENUNCIAD O : HOSPEDAJE ESTRELLA SOL Y LUNA  E.I.R.L.  \\nMATE', '/content/DISCRIMINACIÓN/DISCRIMINACIαN/DISCRIMINACION2.pdf': ' \\n \\n1 \\nM-CPC -05/01 \\n \\nINSTITUTO NACIONAL DE DEFENSA DE LA C OMPETENCIA Y DE LA PROTECCIÓN DE L A PROPIEDAD INTELECT UAL  \\nCalle De la Prosa 104, San Borja, Lima 41 - Perú T elf: 224 7800 / Fax: 224 0348  \\nE-mail: postmaster@indecopi.gob.pe / Web: www.indecopi.gob.pe  \\n \\nCOMISIÓN DE PROTECCIÓN AL CONSUMIDOR N° 2  \\nSEDE CENTRA L  \\nEXPEDIENTE N° 884-2018/ CC2 \\n \\nRESOLUCIÓN FINAL N° 0330 -2023/CC2  \\n \\nDENUNCIANTE  : ASOCIACIÓN PERUANA DE CONSUMIDORES  \\n   Y USUARIOS – ASPEC (ASPEC)  \\n     (LA ASOCI', '/content/DISCRIMINACIÓN/DISCRIMINACIαN/DISCRIMINACION8.pdf': ' \\n COMISIÓN  DE LA OFICINA REGIONAL DEL  \\n INDECOPI ÁNCASH SEDE CHIMBOTE     \\n \\nEXPEDIENTE Nº 0 095-2023/CPC -INDECOPI -CHT \\n \\n \\n1 de 31 \\n \\nINSTITUTO NACIONAL DE DEFENSA DE LA COMPETENCIA Y DE LA PROTECCIÓN DE LA PROPIEDAD INTELECTUAL  \\nJr. Elías Aguirre Nº 130, Chimbote – Perú / Teléfonos: 0 800 4 40 40 opción 6 anexo 4301; 01 – 224 7777 opción 6 anexo 4301  \\nE-mail: msanchezq@indecopi.gob.pe / Web: www.indecopi.gob.pe  \\n \\nM-CPC -06/02  \\nRESOLUCIÓN FINAL Nº 0 168-2024/INDECOPI -CHT \\n           ', '/content/DISCRIMINACIÓN/DISCRIMINACIαN/DISCRIMINACION9.pdf': 'COMISIÓN DE LA OFICINA REGIONAL\\nDEL INDECOPI DE JUNÍN\\nEXPEDIENTE Nº 248 -2023 /CPC -INDECOPI -JUN\\nM-CPC -06/01\\n1/26\\nINSTITUTO NACIONAL DE DEFENSA DE LA  COMPETENCIA Y DE LA PROTECCIÓN DE LA PROPIEDAD INTELECTUAL\\nPasaje Comercial Nº474–El Tambo, Huancayo, Junín , Perú /Línea gratuita para provincias el 0 -800-44040 (desde un\\nteléfono fijo) o para Lima y Callao con el 01 -2247777 (desde un celular)\\nE-mail: kalvarado@indecopi.gob.pe / Web: www.indecopi.gob.peRESOLUCIÓN FINAL N° 219-2024/INDECOPI -J'}\n"
          ]
        }
      ]
    },
    {
      "cell_type": "code",
      "source": [
        "def clean_text(text):\n",
        "    text = re.sub(r'\\s+', ' ', text)  # Eliminar espacios extra\n",
        "    text = re.sub(r'[^\\w\\s]', '', text)  # Eliminar signos de puntuación\n",
        "    text = text.lower()  # Convertir a minúsculas\n",
        "    return text"
      ],
      "metadata": {
        "id": "B9KtSzD3QxYa"
      },
      "execution_count": null,
      "outputs": []
    },
    {
      "cell_type": "code",
      "source": [
        "cleaned_texts = {k: clean_text(v) for k, v in pdf_texts.items()}"
      ],
      "metadata": {
        "id": "Pwc5CDzgQ1tC"
      },
      "execution_count": null,
      "outputs": []
    },
    {
      "cell_type": "code",
      "source": [
        "!pip install nltk\n",
        "import nltk\n",
        "nltk.download('stopwords')\n",
        "from nltk.corpus import stopwords\n",
        "\n",
        "spanish_stopwords = stopwords.words('spanish')\n",
        "\n",
        "vectorizer = TfidfVectorizer(stop_words=spanish_stopwords)\n",
        "X = vectorizer.fit_transform(cleaned_texts.values())"
      ],
      "metadata": {
        "colab": {
          "base_uri": "https://localhost:8080/"
        },
        "id": "Un5oeHgXRaZj",
        "outputId": "6e9cd673-1128-4bfa-9187-87acfdfbae01"
      },
      "execution_count": null,
      "outputs": [
        {
          "output_type": "stream",
          "name": "stdout",
          "text": [
            "Requirement already satisfied: nltk in /usr/local/lib/python3.11/dist-packages (3.9.1)\n",
            "Requirement already satisfied: click in /usr/local/lib/python3.11/dist-packages (from nltk) (8.1.8)\n",
            "Requirement already satisfied: joblib in /usr/local/lib/python3.11/dist-packages (from nltk) (1.4.2)\n",
            "Requirement already satisfied: regex>=2021.8.3 in /usr/local/lib/python3.11/dist-packages (from nltk) (2024.11.6)\n",
            "Requirement already satisfied: tqdm in /usr/local/lib/python3.11/dist-packages (from nltk) (4.67.1)\n"
          ]
        },
        {
          "output_type": "stream",
          "name": "stderr",
          "text": [
            "[nltk_data] Downloading package stopwords to /root/nltk_data...\n",
            "[nltk_data]   Unzipping corpora/stopwords.zip.\n"
          ]
        }
      ]
    },
    {
      "cell_type": "code",
      "source": [
        "spanish_stopwords = set(stopwords.words('spanish'))"
      ],
      "metadata": {
        "id": "4WlJZBg6RirL"
      },
      "execution_count": null,
      "outputs": []
    },
    {
      "cell_type": "code",
      "source": [
        "num_clusters = 4"
      ],
      "metadata": {
        "id": "L0xkP-NSRwbD"
      },
      "execution_count": null,
      "outputs": []
    },
    {
      "cell_type": "code",
      "source": [
        "kmeans = KMeans(n_clusters=num_clusters, random_state=42, n_init=10)\n",
        "clusters = kmeans.fit_predict(X)\n"
      ],
      "metadata": {
        "id": "QBQdTu5uRxtj"
      },
      "execution_count": null,
      "outputs": []
    },
    {
      "cell_type": "code",
      "source": [
        "cluster_results = {file: cluster for file, cluster in zip(cleaned_texts.keys(), clusters)}\n"
      ],
      "metadata": {
        "id": "8BnJivbYR0ps"
      },
      "execution_count": null,
      "outputs": []
    },
    {
      "cell_type": "code",
      "source": [
        "df_clusters = pd.DataFrame(list(cluster_results.items()), columns=[\"Archivo\", \"Cluster\"])\n"
      ],
      "metadata": {
        "id": "sYglLOSMR3Nk"
      },
      "execution_count": null,
      "outputs": []
    },
    {
      "cell_type": "code",
      "source": [
        "print(df_clusters)"
      ],
      "metadata": {
        "colab": {
          "base_uri": "https://localhost:8080/"
        },
        "id": "Ufs1zH21R6V0",
        "outputId": "cb57f75f-c7ce-4496-c327-568bccb64850"
      },
      "execution_count": null,
      "outputs": [
        {
          "output_type": "stream",
          "name": "stdout",
          "text": [
            "                                             Archivo  Cluster\n",
            "0  /content/DISCRIMINACIÓN/DISCRIMINACIαN/DISCRIM...        0\n",
            "1  /content/DISCRIMINACIÓN/DISCRIMINACIαN/DISCRIM...        3\n",
            "2  /content/DISCRIMINACIÓN/DISCRIMINACIαN/DISCRIM...        1\n",
            "3  /content/DISCRIMINACIÓN/DISCRIMINACIαN/DISCRIM...        2\n",
            "4  /content/DISCRIMINACIÓN/DISCRIMINACIαN/DISCRIM...        3\n",
            "5  /content/DISCRIMINACIÓN/DISCRIMINACIαN/DISCRIM...        3\n",
            "6  /content/DISCRIMINACIÓN/DISCRIMINACIαN/DISCRIM...        3\n",
            "7  /content/DISCRIMINACIÓN/DISCRIMINACIαN/DISCRIM...        0\n",
            "8  /content/DISCRIMINACIÓN/DISCRIMINACIαN/DISCRIM...        0\n",
            "9  /content/DISCRIMINACIÓN/DISCRIMINACIαN/DISCRIM...        0\n"
          ]
        }
      ]
    },
    {
      "cell_type": "code",
      "source": [
        "df_clusters.to_csv(\"resultados_clustering.csv\", index=False)\n",
        "\n",
        "# Para descargarlo en Colab\n",
        "from google.colab import files\n",
        "files.download(\"resultados_clustering.csv\")"
      ],
      "metadata": {
        "colab": {
          "base_uri": "https://localhost:8080/",
          "height": 17
        },
        "id": "saNkzqUMR-Yc",
        "outputId": "855c8d5d-c491-4674-a2d2-a07eb3c49606"
      },
      "execution_count": null,
      "outputs": [
        {
          "output_type": "display_data",
          "data": {
            "text/plain": [
              "<IPython.core.display.Javascript object>"
            ],
            "application/javascript": [
              "\n",
              "    async function download(id, filename, size) {\n",
              "      if (!google.colab.kernel.accessAllowed) {\n",
              "        return;\n",
              "      }\n",
              "      const div = document.createElement('div');\n",
              "      const label = document.createElement('label');\n",
              "      label.textContent = `Downloading \"${filename}\": `;\n",
              "      div.appendChild(label);\n",
              "      const progress = document.createElement('progress');\n",
              "      progress.max = size;\n",
              "      div.appendChild(progress);\n",
              "      document.body.appendChild(div);\n",
              "\n",
              "      const buffers = [];\n",
              "      let downloaded = 0;\n",
              "\n",
              "      const channel = await google.colab.kernel.comms.open(id);\n",
              "      // Send a message to notify the kernel that we're ready.\n",
              "      channel.send({})\n",
              "\n",
              "      for await (const message of channel.messages) {\n",
              "        // Send a message to notify the kernel that we're ready.\n",
              "        channel.send({})\n",
              "        if (message.buffers) {\n",
              "          for (const buffer of message.buffers) {\n",
              "            buffers.push(buffer);\n",
              "            downloaded += buffer.byteLength;\n",
              "            progress.value = downloaded;\n",
              "          }\n",
              "        }\n",
              "      }\n",
              "      const blob = new Blob(buffers, {type: 'application/binary'});\n",
              "      const a = document.createElement('a');\n",
              "      a.href = window.URL.createObjectURL(blob);\n",
              "      a.download = filename;\n",
              "      div.appendChild(a);\n",
              "      a.click();\n",
              "      div.remove();\n",
              "    }\n",
              "  "
            ]
          },
          "metadata": {}
        },
        {
          "output_type": "display_data",
          "data": {
            "text/plain": [
              "<IPython.core.display.Javascript object>"
            ],
            "application/javascript": [
              "download(\"download_3817556f-29de-4409-9a1e-25ab30e11728\", \"resultados_clustering.csv\", 647)"
            ]
          },
          "metadata": {}
        }
      ]
    },
    {
      "cell_type": "code",
      "source": [
        "categorias = {\n",
        "    \"Discriminación\": [\"discriminación\", \"exclusión\", \"derechos\", \"injusticia\", \"prejuicio\"],\n",
        "    \"Mujer\": [\"mujer\", \"feminismo\", \"igualdad\", \"violencia\", \"brecha salarial\"],\n",
        "    \"Género\": [\"género\", \"identidad\", \"LGBT\", \"transgénero\", \"diversidad\"],\n",
        "    \"Sexualidad\": [\"sexualidad\", \"orientación\", \"LGBTQ\", \"homofobia\", \"heteronormatividad\"],\n",
        "    \"Edad\": [\"edad\", \"vejez\", \"juventud\", \"ancianos\", \"discriminación etaria\"],\n",
        "    \"Clase Social\": [\"clase social\", \"pobreza\", \"ricos\", \"desigualdad\", \"privilegio\"],\n",
        "    \"Cuestiones Políticas\": [\"política\", \"ideología\", \"derecha\", \"izquierda\", \"autoritarismo\"],\n",
        "    \"Cultura\": [\"cultura\", \"tradición\", \"costumbres\", \"multiculturalismo\", \"globalización\"]\n",
        "}"
      ],
      "metadata": {
        "id": "7ofO2CWxSLP0"
      },
      "execution_count": null,
      "outputs": []
    },
    {
      "cell_type": "code",
      "source": [
        "num_clusters = 8\n",
        "\n",
        "# Aplicar K-Means\n",
        "kmeans = KMeans(n_clusters=num_clusters, random_state=42, n_init=10)\n",
        "clusters = kmeans.fit_predict(X)\n",
        "\n",
        "# Asignar cada documento a su cluster temático\n",
        "cluster_results = {file: cluster for file, cluster in zip(cleaned_texts.keys(), clusters)}\n",
        "df_clusters = pd.DataFrame(list(cluster_results.items()), columns=[\"Archivo\", \"Cluster\"])\n",
        "\n",
        "# Mostrar resultados\n",
        "print(df_clusters)"
      ],
      "metadata": {
        "colab": {
          "base_uri": "https://localhost:8080/"
        },
        "id": "hmXbW4tHS6s9",
        "outputId": "7b9ef204-af6d-4aad-b8ea-1cfc2ebe653d"
      },
      "execution_count": null,
      "outputs": [
        {
          "output_type": "stream",
          "name": "stdout",
          "text": [
            "                                             Archivo  Cluster\n",
            "0  /content/DISCRIMINACIÓN/DISCRIMINACIαN/DISCRIM...        1\n",
            "1  /content/DISCRIMINACIÓN/DISCRIMINACIαN/DISCRIM...        1\n",
            "2  /content/DISCRIMINACIÓN/DISCRIMINACIαN/DISCRIM...        4\n",
            "3  /content/DISCRIMINACIÓN/DISCRIMINACIαN/DISCRIM...        2\n",
            "4  /content/DISCRIMINACIÓN/DISCRIMINACIαN/DISCRIM...        7\n",
            "5  /content/DISCRIMINACIÓN/DISCRIMINACIαN/DISCRIM...        1\n",
            "6  /content/DISCRIMINACIÓN/DISCRIMINACIαN/DISCRIM...        5\n",
            "7  /content/DISCRIMINACIÓN/DISCRIMINACIαN/DISCRIM...        3\n",
            "8  /content/DISCRIMINACIÓN/DISCRIMINACIαN/DISCRIM...        0\n",
            "9  /content/DISCRIMINACIÓN/DISCRIMINACIαN/DISCRIM...        6\n"
          ]
        }
      ]
    },
    {
      "cell_type": "code",
      "source": [
        "cluster_keywords = {i: [] for i in range(num_clusters)}\n",
        "\n",
        "for i, doc in enumerate(cleaned_texts.values()):\n",
        "    cluster_num = clusters[i]\n",
        "    for category, keywords in categorias.items():\n",
        "        if any(word in doc for word in keywords):\n",
        "            cluster_keywords[cluster_num].append(category)\n",
        "\n",
        "# Asignar nombres de clusters basados en categorías dominantes\n",
        "cluster_names = {k: max(set(v), key=v.count) if v else \"Desconocido\" for k, v in cluster_keywords.items()}\n",
        "df_clusters[\"Categoría\"] = df_clusters[\"Cluster\"].map(cluster_names)\n",
        "\n",
        "# Mostrar la tabla con categorías asignadas\n",
        "print(df_clusters)"
      ],
      "metadata": {
        "colab": {
          "base_uri": "https://localhost:8080/"
        },
        "id": "kcmgmVo0S_ku",
        "outputId": "5a8a7e65-76b0-4973-e938-a58e8856429a"
      },
      "execution_count": null,
      "outputs": [
        {
          "output_type": "stream",
          "name": "stdout",
          "text": [
            "                                             Archivo  Cluster Categoría\n",
            "0  /content/DISCRIMINACIÓN/DISCRIMINACIαN/DISCRIM...        1      Edad\n",
            "1  /content/DISCRIMINACIÓN/DISCRIMINACIαN/DISCRIM...        1      Edad\n",
            "2  /content/DISCRIMINACIÓN/DISCRIMINACIαN/DISCRIM...        4    Género\n",
            "3  /content/DISCRIMINACIÓN/DISCRIMINACIαN/DISCRIM...        2    Género\n",
            "4  /content/DISCRIMINACIÓN/DISCRIMINACIαN/DISCRIM...        7    Género\n",
            "5  /content/DISCRIMINACIÓN/DISCRIMINACIαN/DISCRIM...        1      Edad\n",
            "6  /content/DISCRIMINACIÓN/DISCRIMINACIαN/DISCRIM...        5    Género\n",
            "7  /content/DISCRIMINACIÓN/DISCRIMINACIαN/DISCRIM...        3    Género\n",
            "8  /content/DISCRIMINACIÓN/DISCRIMINACIαN/DISCRIM...        0    Género\n",
            "9  /content/DISCRIMINACIÓN/DISCRIMINACIαN/DISCRIM...        6    Género\n"
          ]
        }
      ]
    },
    {
      "cell_type": "code",
      "source": [
        "df_clusters.to_csv(\"resultados_clustering_tematico.csv\", index=False)\n",
        "\n",
        "# Descargar archivo CSV\n",
        "from google.colab import files\n",
        "files.download(\"resultados_clustering_tematico.csv\")"
      ],
      "metadata": {
        "colab": {
          "base_uri": "https://localhost:8080/",
          "height": 17
        },
        "id": "ZcEtt0R9TZI2",
        "outputId": "71a8f622-d4f1-455d-bf13-d807999aa42c"
      },
      "execution_count": null,
      "outputs": [
        {
          "output_type": "display_data",
          "data": {
            "text/plain": [
              "<IPython.core.display.Javascript object>"
            ],
            "application/javascript": [
              "\n",
              "    async function download(id, filename, size) {\n",
              "      if (!google.colab.kernel.accessAllowed) {\n",
              "        return;\n",
              "      }\n",
              "      const div = document.createElement('div');\n",
              "      const label = document.createElement('label');\n",
              "      label.textContent = `Downloading \"${filename}\": `;\n",
              "      div.appendChild(label);\n",
              "      const progress = document.createElement('progress');\n",
              "      progress.max = size;\n",
              "      div.appendChild(progress);\n",
              "      document.body.appendChild(div);\n",
              "\n",
              "      const buffers = [];\n",
              "      let downloaded = 0;\n",
              "\n",
              "      const channel = await google.colab.kernel.comms.open(id);\n",
              "      // Send a message to notify the kernel that we're ready.\n",
              "      channel.send({})\n",
              "\n",
              "      for await (const message of channel.messages) {\n",
              "        // Send a message to notify the kernel that we're ready.\n",
              "        channel.send({})\n",
              "        if (message.buffers) {\n",
              "          for (const buffer of message.buffers) {\n",
              "            buffers.push(buffer);\n",
              "            downloaded += buffer.byteLength;\n",
              "            progress.value = downloaded;\n",
              "          }\n",
              "        }\n",
              "      }\n",
              "      const blob = new Blob(buffers, {type: 'application/binary'});\n",
              "      const a = document.createElement('a');\n",
              "      a.href = window.URL.createObjectURL(blob);\n",
              "      a.download = filename;\n",
              "      div.appendChild(a);\n",
              "      a.click();\n",
              "      div.remove();\n",
              "    }\n",
              "  "
            ]
          },
          "metadata": {}
        },
        {
          "output_type": "display_data",
          "data": {
            "text/plain": [
              "<IPython.core.display.Javascript object>"
            ],
            "application/javascript": [
              "download(\"download_036e9f4a-d785-4a07-8b69-d6eb0a263380\", \"resultados_clustering_tematico.csv\", 729)"
            ]
          },
          "metadata": {}
        }
      ]
    },
    {
      "cell_type": "code",
      "source": [
        "from google.colab import files\n",
        "\n",
        "uploaded = files.upload()"
      ],
      "metadata": {
        "colab": {
          "base_uri": "https://localhost:8080/",
          "height": 71
        },
        "id": "-JyYDV9uUvaY",
        "outputId": "118e0d85-7341-4b02-c2cd-3c16d143b581"
      },
      "execution_count": null,
      "outputs": [
        {
          "output_type": "display_data",
          "data": {
            "text/plain": [
              "<IPython.core.display.HTML object>"
            ],
            "text/html": [
              "\n",
              "     <input type=\"file\" id=\"files-9b2af526-411c-43c6-94eb-f4cecfeaccd0\" name=\"files[]\" multiple disabled\n",
              "        style=\"border:none\" />\n",
              "     <output id=\"result-9b2af526-411c-43c6-94eb-f4cecfeaccd0\">\n",
              "      Upload widget is only available when the cell has been executed in the\n",
              "      current browser session. Please rerun this cell to enable.\n",
              "      </output>\n",
              "      <script>// Copyright 2017 Google LLC\n",
              "//\n",
              "// Licensed under the Apache License, Version 2.0 (the \"License\");\n",
              "// you may not use this file except in compliance with the License.\n",
              "// You may obtain a copy of the License at\n",
              "//\n",
              "//      http://www.apache.org/licenses/LICENSE-2.0\n",
              "//\n",
              "// Unless required by applicable law or agreed to in writing, software\n",
              "// distributed under the License is distributed on an \"AS IS\" BASIS,\n",
              "// WITHOUT WARRANTIES OR CONDITIONS OF ANY KIND, either express or implied.\n",
              "// See the License for the specific language governing permissions and\n",
              "// limitations under the License.\n",
              "\n",
              "/**\n",
              " * @fileoverview Helpers for google.colab Python module.\n",
              " */\n",
              "(function(scope) {\n",
              "function span(text, styleAttributes = {}) {\n",
              "  const element = document.createElement('span');\n",
              "  element.textContent = text;\n",
              "  for (const key of Object.keys(styleAttributes)) {\n",
              "    element.style[key] = styleAttributes[key];\n",
              "  }\n",
              "  return element;\n",
              "}\n",
              "\n",
              "// Max number of bytes which will be uploaded at a time.\n",
              "const MAX_PAYLOAD_SIZE = 100 * 1024;\n",
              "\n",
              "function _uploadFiles(inputId, outputId) {\n",
              "  const steps = uploadFilesStep(inputId, outputId);\n",
              "  const outputElement = document.getElementById(outputId);\n",
              "  // Cache steps on the outputElement to make it available for the next call\n",
              "  // to uploadFilesContinue from Python.\n",
              "  outputElement.steps = steps;\n",
              "\n",
              "  return _uploadFilesContinue(outputId);\n",
              "}\n",
              "\n",
              "// This is roughly an async generator (not supported in the browser yet),\n",
              "// where there are multiple asynchronous steps and the Python side is going\n",
              "// to poll for completion of each step.\n",
              "// This uses a Promise to block the python side on completion of each step,\n",
              "// then passes the result of the previous step as the input to the next step.\n",
              "function _uploadFilesContinue(outputId) {\n",
              "  const outputElement = document.getElementById(outputId);\n",
              "  const steps = outputElement.steps;\n",
              "\n",
              "  const next = steps.next(outputElement.lastPromiseValue);\n",
              "  return Promise.resolve(next.value.promise).then((value) => {\n",
              "    // Cache the last promise value to make it available to the next\n",
              "    // step of the generator.\n",
              "    outputElement.lastPromiseValue = value;\n",
              "    return next.value.response;\n",
              "  });\n",
              "}\n",
              "\n",
              "/**\n",
              " * Generator function which is called between each async step of the upload\n",
              " * process.\n",
              " * @param {string} inputId Element ID of the input file picker element.\n",
              " * @param {string} outputId Element ID of the output display.\n",
              " * @return {!Iterable<!Object>} Iterable of next steps.\n",
              " */\n",
              "function* uploadFilesStep(inputId, outputId) {\n",
              "  const inputElement = document.getElementById(inputId);\n",
              "  inputElement.disabled = false;\n",
              "\n",
              "  const outputElement = document.getElementById(outputId);\n",
              "  outputElement.innerHTML = '';\n",
              "\n",
              "  const pickedPromise = new Promise((resolve) => {\n",
              "    inputElement.addEventListener('change', (e) => {\n",
              "      resolve(e.target.files);\n",
              "    });\n",
              "  });\n",
              "\n",
              "  const cancel = document.createElement('button');\n",
              "  inputElement.parentElement.appendChild(cancel);\n",
              "  cancel.textContent = 'Cancel upload';\n",
              "  const cancelPromise = new Promise((resolve) => {\n",
              "    cancel.onclick = () => {\n",
              "      resolve(null);\n",
              "    };\n",
              "  });\n",
              "\n",
              "  // Wait for the user to pick the files.\n",
              "  const files = yield {\n",
              "    promise: Promise.race([pickedPromise, cancelPromise]),\n",
              "    response: {\n",
              "      action: 'starting',\n",
              "    }\n",
              "  };\n",
              "\n",
              "  cancel.remove();\n",
              "\n",
              "  // Disable the input element since further picks are not allowed.\n",
              "  inputElement.disabled = true;\n",
              "\n",
              "  if (!files) {\n",
              "    return {\n",
              "      response: {\n",
              "        action: 'complete',\n",
              "      }\n",
              "    };\n",
              "  }\n",
              "\n",
              "  for (const file of files) {\n",
              "    const li = document.createElement('li');\n",
              "    li.append(span(file.name, {fontWeight: 'bold'}));\n",
              "    li.append(span(\n",
              "        `(${file.type || 'n/a'}) - ${file.size} bytes, ` +\n",
              "        `last modified: ${\n",
              "            file.lastModifiedDate ? file.lastModifiedDate.toLocaleDateString() :\n",
              "                                    'n/a'} - `));\n",
              "    const percent = span('0% done');\n",
              "    li.appendChild(percent);\n",
              "\n",
              "    outputElement.appendChild(li);\n",
              "\n",
              "    const fileDataPromise = new Promise((resolve) => {\n",
              "      const reader = new FileReader();\n",
              "      reader.onload = (e) => {\n",
              "        resolve(e.target.result);\n",
              "      };\n",
              "      reader.readAsArrayBuffer(file);\n",
              "    });\n",
              "    // Wait for the data to be ready.\n",
              "    let fileData = yield {\n",
              "      promise: fileDataPromise,\n",
              "      response: {\n",
              "        action: 'continue',\n",
              "      }\n",
              "    };\n",
              "\n",
              "    // Use a chunked sending to avoid message size limits. See b/62115660.\n",
              "    let position = 0;\n",
              "    do {\n",
              "      const length = Math.min(fileData.byteLength - position, MAX_PAYLOAD_SIZE);\n",
              "      const chunk = new Uint8Array(fileData, position, length);\n",
              "      position += length;\n",
              "\n",
              "      const base64 = btoa(String.fromCharCode.apply(null, chunk));\n",
              "      yield {\n",
              "        response: {\n",
              "          action: 'append',\n",
              "          file: file.name,\n",
              "          data: base64,\n",
              "        },\n",
              "      };\n",
              "\n",
              "      let percentDone = fileData.byteLength === 0 ?\n",
              "          100 :\n",
              "          Math.round((position / fileData.byteLength) * 100);\n",
              "      percent.textContent = `${percentDone}% done`;\n",
              "\n",
              "    } while (position < fileData.byteLength);\n",
              "  }\n",
              "\n",
              "  // All done.\n",
              "  yield {\n",
              "    response: {\n",
              "      action: 'complete',\n",
              "    }\n",
              "  };\n",
              "}\n",
              "\n",
              "scope.google = scope.google || {};\n",
              "scope.google.colab = scope.google.colab || {};\n",
              "scope.google.colab._files = {\n",
              "  _uploadFiles,\n",
              "  _uploadFilesContinue,\n",
              "};\n",
              "})(self);\n",
              "</script> "
            ]
          },
          "metadata": {}
        },
        {
          "output_type": "stream",
          "name": "stdout",
          "text": [
            "Saving DISCRIMINACIÓN.zip to DISCRIMINACIÓN (1).zip\n"
          ]
        }
      ]
    },
    {
      "cell_type": "code",
      "source": [
        "import zipfile\n",
        "import os"
      ],
      "metadata": {
        "id": "xnbmAbwwWQLj"
      },
      "execution_count": null,
      "outputs": []
    },
    {
      "cell_type": "code",
      "source": [
        "zip_path = \"/content/DISCRIMINACIÓN.zip\"  # Asegúrate de cambiar el nombre si es diferente\n",
        "extract_path = \"/content/DISCRIMINACIÓN(1)\""
      ],
      "metadata": {
        "id": "r-VPVte3Wcpy"
      },
      "execution_count": null,
      "outputs": []
    },
    {
      "cell_type": "code",
      "source": [
        "with zipfile.ZipFile(zip_path, 'r') as zip_ref:\n",
        "    zip_ref.extractall(extract_path)"
      ],
      "metadata": {
        "id": "sVAneeXjWkxi"
      },
      "execution_count": null,
      "outputs": []
    },
    {
      "cell_type": "code",
      "source": [
        "extracted_files = []\n",
        "for root, dirs, files in os.walk(extract_path):\n",
        "    for file in files:\n",
        "        extracted_files.append(os.path.join(root, file))"
      ],
      "metadata": {
        "id": "NYC7FECEWoKj"
      },
      "execution_count": null,
      "outputs": []
    },
    {
      "cell_type": "code",
      "source": [
        "print(\"Archivos extraídos:\", extracted_files)"
      ],
      "metadata": {
        "colab": {
          "base_uri": "https://localhost:8080/"
        },
        "id": "YRs2DWd-WtP6",
        "outputId": "2ad0076b-29ce-454e-8c3e-cafd807bff7e"
      },
      "execution_count": null,
      "outputs": [
        {
          "output_type": "stream",
          "name": "stdout",
          "text": [
            "Archivos extraídos: ['/content/DISCRIMINACIÓN(1)/DISCRIMINACIαN/DISCRIMINACION6.pdf', '/content/DISCRIMINACIÓN(1)/DISCRIMINACIαN/DISCRIMINACIOnN.pdf', '/content/DISCRIMINACIÓN(1)/DISCRIMINACIαN/DISCRIMINACION1.pdf', '/content/DISCRIMINACIÓN(1)/DISCRIMINACIαN/DISCRIMINACION4.pdf', '/content/DISCRIMINACIÓN(1)/DISCRIMINACIαN/DISCRIMINACION5.pdf', '/content/DISCRIMINACIÓN(1)/DISCRIMINACIαN/DISCRIMINACION 7.pdf', '/content/DISCRIMINACIÓN(1)/DISCRIMINACIαN/DISCRIMINACION3.pdf', '/content/DISCRIMINACIÓN(1)/DISCRIMINACIαN/DISCRIMINACION2.pdf', '/content/DISCRIMINACIÓN(1)/DISCRIMINACIαN/DISCRIMINACION8.pdf', '/content/DISCRIMINACIÓN(1)/DISCRIMINACIαN/DISCRIMINACION9.pdf']\n"
          ]
        }
      ]
    },
    {
      "cell_type": "code",
      "source": [
        "!pip install PyPDF2 scikit-learn pandas matplotlib"
      ],
      "metadata": {
        "colab": {
          "base_uri": "https://localhost:8080/"
        },
        "id": "bNKK7QL9WxdL",
        "outputId": "a9a22af9-d6d5-4f58-e637-140eaf319acb"
      },
      "execution_count": null,
      "outputs": [
        {
          "output_type": "stream",
          "name": "stdout",
          "text": [
            "Requirement already satisfied: PyPDF2 in /usr/local/lib/python3.11/dist-packages (3.0.1)\n",
            "Requirement already satisfied: scikit-learn in /usr/local/lib/python3.11/dist-packages (1.6.1)\n",
            "Requirement already satisfied: pandas in /usr/local/lib/python3.11/dist-packages (2.2.2)\n",
            "Requirement already satisfied: matplotlib in /usr/local/lib/python3.11/dist-packages (3.10.0)\n",
            "Requirement already satisfied: numpy>=1.19.5 in /usr/local/lib/python3.11/dist-packages (from scikit-learn) (1.26.4)\n",
            "Requirement already satisfied: scipy>=1.6.0 in /usr/local/lib/python3.11/dist-packages (from scikit-learn) (1.14.1)\n",
            "Requirement already satisfied: joblib>=1.2.0 in /usr/local/lib/python3.11/dist-packages (from scikit-learn) (1.4.2)\n",
            "Requirement already satisfied: threadpoolctl>=3.1.0 in /usr/local/lib/python3.11/dist-packages (from scikit-learn) (3.5.0)\n",
            "Requirement already satisfied: python-dateutil>=2.8.2 in /usr/local/lib/python3.11/dist-packages (from pandas) (2.8.2)\n",
            "Requirement already satisfied: pytz>=2020.1 in /usr/local/lib/python3.11/dist-packages (from pandas) (2025.1)\n",
            "Requirement already satisfied: tzdata>=2022.7 in /usr/local/lib/python3.11/dist-packages (from pandas) (2025.1)\n",
            "Requirement already satisfied: contourpy>=1.0.1 in /usr/local/lib/python3.11/dist-packages (from matplotlib) (1.3.1)\n",
            "Requirement already satisfied: cycler>=0.10 in /usr/local/lib/python3.11/dist-packages (from matplotlib) (0.12.1)\n",
            "Requirement already satisfied: fonttools>=4.22.0 in /usr/local/lib/python3.11/dist-packages (from matplotlib) (4.56.0)\n",
            "Requirement already satisfied: kiwisolver>=1.3.1 in /usr/local/lib/python3.11/dist-packages (from matplotlib) (1.4.8)\n",
            "Requirement already satisfied: packaging>=20.0 in /usr/local/lib/python3.11/dist-packages (from matplotlib) (24.2)\n",
            "Requirement already satisfied: pillow>=8 in /usr/local/lib/python3.11/dist-packages (from matplotlib) (11.1.0)\n",
            "Requirement already satisfied: pyparsing>=2.3.1 in /usr/local/lib/python3.11/dist-packages (from matplotlib) (3.2.1)\n",
            "Requirement already satisfied: six>=1.5 in /usr/local/lib/python3.11/dist-packages (from python-dateutil>=2.8.2->pandas) (1.17.0)\n"
          ]
        }
      ]
    },
    {
      "cell_type": "code",
      "source": [
        "import os\n",
        "import re\n",
        "import pandas as pd\n",
        "import matplotlib.pyplot as plt\n",
        "from PyPDF2 import PdfReader\n",
        "from sklearn.feature_extraction.text import TfidfVectorizer\n",
        "from sklearn.cluster import KMeans"
      ],
      "metadata": {
        "id": "UTgU0_SKW1ua"
      },
      "execution_count": null,
      "outputs": []
    },
    {
      "cell_type": "code",
      "source": [
        "def extract_text_from_pdf(pdf_path):\n",
        "    text = \"\"\n",
        "    with open(pdf_path, \"rb\") as file:\n",
        "        reader = PdfReader(file)\n",
        "        for page in reader.pages:\n",
        "            text += page.extract_text() if page.extract_text() else \"\"\n",
        "    return text"
      ],
      "metadata": {
        "id": "TlDSpJhxW48K"
      },
      "execution_count": null,
      "outputs": []
    },
    {
      "cell_type": "code",
      "source": [
        "pdf_texts = {}\n",
        "for pdf_file in extracted_files:\n",
        "    pdf_texts[pdf_file] = extract_text_from_pdf(pdf_file)\n"
      ],
      "metadata": {
        "colab": {
          "base_uri": "https://localhost:8080/"
        },
        "id": "fCd3Du-_W8ST",
        "outputId": "dd651f9f-378a-406b-fedd-1d80b83f2851"
      },
      "execution_count": null,
      "outputs": [
        {
          "output_type": "stream",
          "name": "stderr",
          "text": [
            "WARNING:PyPDF2._cmap:unknown widths : \n",
            "[0, IndirectObject(203, 0, 140700955776720)]\n",
            "WARNING:PyPDF2._cmap:unknown widths : \n",
            "[0, IndirectObject(207, 0, 140700955776720)]\n",
            "WARNING:PyPDF2._cmap:unknown widths : \n",
            "[0, IndirectObject(211, 0, 140700955776720)]\n",
            "WARNING:PyPDF2._cmap:unknown widths : \n",
            "[0, IndirectObject(215, 0, 140700955776720)]\n",
            "WARNING:PyPDF2._cmap:unknown widths : \n",
            "[0, IndirectObject(219, 0, 140700955776720)]\n",
            "WARNING:PyPDF2._cmap:unknown widths : \n",
            "[0, IndirectObject(223, 0, 140700955776720)]\n",
            "WARNING:PyPDF2._cmap:unknown widths : \n",
            "[0, IndirectObject(227, 0, 140700955776720)]\n",
            "WARNING:PyPDF2._cmap:unknown widths : \n",
            "[0, IndirectObject(231, 0, 140700955776720)]\n",
            "WARNING:PyPDF2._cmap:unknown widths : \n",
            "[0, IndirectObject(235, 0, 140700955776720)]\n",
            "WARNING:PyPDF2._cmap:unknown widths : \n",
            "[0, IndirectObject(239, 0, 140700955776720)]\n",
            "WARNING:PyPDF2._cmap:unknown widths : \n",
            "[0, IndirectObject(243, 0, 140700955776720)]\n",
            "WARNING:PyPDF2._cmap:unknown widths : \n",
            "[0, IndirectObject(247, 0, 140700955776720)]\n",
            "WARNING:PyPDF2._cmap:unknown widths : \n",
            "[0, IndirectObject(251, 0, 140700955776720)]\n",
            "WARNING:PyPDF2._cmap:unknown widths : \n",
            "[0, IndirectObject(255, 0, 140700955776720)]\n",
            "WARNING:PyPDF2._cmap:unknown widths : \n",
            "[0, IndirectObject(259, 0, 140700955776720)]\n",
            "WARNING:PyPDF2._cmap:unknown widths : \n",
            "[0, IndirectObject(203, 0, 140700955776720)]\n",
            "WARNING:PyPDF2._cmap:unknown widths : \n",
            "[0, IndirectObject(207, 0, 140700955776720)]\n",
            "WARNING:PyPDF2._cmap:unknown widths : \n",
            "[0, IndirectObject(211, 0, 140700955776720)]\n",
            "WARNING:PyPDF2._cmap:unknown widths : \n",
            "[0, IndirectObject(215, 0, 140700955776720)]\n",
            "WARNING:PyPDF2._cmap:unknown widths : \n",
            "[0, IndirectObject(219, 0, 140700955776720)]\n",
            "WARNING:PyPDF2._cmap:unknown widths : \n",
            "[0, IndirectObject(223, 0, 140700955776720)]\n",
            "WARNING:PyPDF2._cmap:unknown widths : \n",
            "[0, IndirectObject(227, 0, 140700955776720)]\n",
            "WARNING:PyPDF2._cmap:unknown widths : \n",
            "[0, IndirectObject(231, 0, 140700955776720)]\n",
            "WARNING:PyPDF2._cmap:unknown widths : \n",
            "[0, IndirectObject(235, 0, 140700955776720)]\n",
            "WARNING:PyPDF2._cmap:unknown widths : \n",
            "[0, IndirectObject(239, 0, 140700955776720)]\n",
            "WARNING:PyPDF2._cmap:unknown widths : \n",
            "[0, IndirectObject(243, 0, 140700955776720)]\n",
            "WARNING:PyPDF2._cmap:unknown widths : \n",
            "[0, IndirectObject(247, 0, 140700955776720)]\n",
            "WARNING:PyPDF2._cmap:unknown widths : \n",
            "[0, IndirectObject(251, 0, 140700955776720)]\n",
            "WARNING:PyPDF2._cmap:unknown widths : \n",
            "[0, IndirectObject(255, 0, 140700955776720)]\n",
            "WARNING:PyPDF2._cmap:unknown widths : \n",
            "[0, IndirectObject(259, 0, 140700955776720)]\n"
          ]
        }
      ]
    },
    {
      "cell_type": "code",
      "source": [
        "preview_texts = {k: v[:500] for k, v in pdf_texts.items()}  # Solo los primeros 500 caracteres\n",
        "print(preview_texts)"
      ],
      "metadata": {
        "colab": {
          "base_uri": "https://localhost:8080/"
        },
        "id": "0MpG4-_0XTLz",
        "outputId": "308bdebb-d1d6-498d-a117-9860c5cb4e18"
      },
      "execution_count": null,
      "outputs": [
        {
          "output_type": "stream",
          "name": "stdout",
          "text": [
            "{'/content/DISCRIMINACIÓN(1)/DISCRIMINACIαN/DISCRIMINACION6.pdf': ' \\n \\n \\n \\n \\n \\n1 \\nM-CPC -05/01 \\n \\nINSTITUTO NACIONAL DE DEFENSA DE LA COMPETENCIA Y DE LA PROTECCIÓN DE LA PROPIEDAD INTELECTUAL  \\nCalle De la Prosa 104, San Borja, Lima 41 - Perú Telf: 224 7800 / Fax: 224 0348  \\nE-mail: postmaster@indecopi.gob.pe / Web: www.indecopi.gob.pe  \\nCOMISIÓN DE PROTECCIÓN AL CONSUMIDOR N° 2  \\nSEDE CENTRAL   \\nEXPEDIENTE N° 698-2022 /CC2   \\n \\n \\n \\nRESOLUCIÓN FINAL N° 2382 -2022/CC2  \\n \\nDENUNCIANTE   : JULIO ERNESTO PERALTA TORRES  \\n  (El SEÑOR PERALTA )  \\nDENUNCIADO         ', '/content/DISCRIMINACIÓN(1)/DISCRIMINACIαN/DISCRIMINACIOnN.pdf': 'TRIBUNAL DE DEFENSA DE LA COMPETENCIA  \\n Y DE LA PROPIEDAD INTELECTUAL  \\n           Sala Especializada en Protección al Consumidor  \\n \\nRESOLUCIÓN 1848 -2023/SPC -INDECOPI  \\n \\nEXPEDIENTE 0879 -2020/CC2  \\n \\n \\n \\nM-SPC-13/1B     1/25 \\n \\n \\nINSTITUTO NACIONAL DE DEFENSA DE LA COMPETENCIA Y DE LA PROTECCIÓN DE LA PROPIEDAD INTELECTUAL  \\nCalle De la Prosa 104, San Borja, Lima 41 - Perú Telf: 224 7800 / Fax: 224 0348  \\nE-mail: postmaster@indecopi.gob.pe / Web: www.indecopi.gob.pe  \\nPROCEDENCIA  :  COMISI', '/content/DISCRIMINACIÓN(1)/DISCRIMINACIαN/DISCRIMINACION1.pdf': '\\xa0\\n\\xa0 TRIBUNAL\\xa0DE\\xa0DEFENSA\\xa0DE\\xa0LA\\xa0COMPETENCIA\\xa0\\nY\\xa0DE\\xa0LA\\xa0PROPIEDAD\\xa0INTELECTUAL\\xa0\\nSala\\xa0Especializada\\xa0en\\xa0Protección\\xa0al\\xa0Consumidor\\xa0\\n\\xa0\\nRESOLUCIÓN\\xa03255\\xad2015/SPC\\xadINDECOPI\\xa0\\n\\xa0\\nEXPEDIENTE\\xa0325\\xad2014/ILN\\xadCPC\\xa0\\n\\xa0\\n\\xa0\\nPROCEDENCIA:COMISIÓNDEPROTECCIÓNALCONSUMIDOR– \\xa0\\xa0 \\xa0\\xa0 \\xa0\\xa0\\nSEDE\\xa0LIMA\\xa0NORTE\\xa0\\nPROCEDIMIENTO:\\xa0DE\\xa0PARTE\\xa0\\nDENUNCIANTES:JULIO\\xa0CÉSAR\\xa0LAVALLE\\xa0SOTILLO\\xa0\\nJOUSTIN\\xa0DALTTON\\xa0RODRÍGUEZ\\xa0SALAZAR\\xa0\\nDENUNCIADA :MALLSERVICES.A.C.\\xadCENTROCOMERCIAL \\xa0 \\xa0\\xa0\\xa0 \\xa0 \\xa0\\nPLAZA\\xa0SAN\\xa0MIGUEL\\xa0\\nMATERIA :DISCRIMINACIÓN\\xa0EN\\xa0EL\\xa0CONSUMO\\xa0\\nACTIVIDAD :ACTIVIDA', '/content/DISCRIMINACIÓN(1)/DISCRIMINACIαN/DISCRIMINACION4.pdf': '/\"■ , . . Presidencia \\ndel Consejo de Ministros -TRIBUNAL DE DEFENSA DE LA COMPETENCIA \\nY DE LA PROPIEDAD INTELECTUAL \\nSala Especializada en Protección al Consumidor \\nRESOLUCIÓN 0735-2022//SPC-INDECOPI \\nEXPEDIENTE 0077-2019/CPC-INDE COPI-CHT \\nPROCEDENCIA \\nPROCEDIMIENTO \\nDENUNCIANTE COMISIÓN DE LA OFICINA REGIONAL DEL INDECOPI \\nDE ÁNCASH -SEDE CHIMBOTE \\nDE PARTE \\nDENUNCIADAS \\nMATERIA \\nACTIVIDAD INMUEBLES PANAMERICANA S.A. \\nAL TEK TRADING S.A.C. \\nDISCRIM INACIÓN \\nINMOBILIARIAS POR RETRIBUCIÓN \\nSUM', '/content/DISCRIMINACIÓN(1)/DISCRIMINACIαN/DISCRIMINACION5.pdf': 'TRIBUNAL DE DEFENSA DE LA COMPETENCIA  \\n Y DE LA PROPIEDAD INTELECTUAL  \\n  Sala Especializada en Protección al Consumidor  \\n \\nRESOLUCIÓN 0175 -2021 /SPC -INDECOPI  \\n \\nEXPEDIENTE 185-2019/CPC -INDECOPI -JUN \\n \\n \\nM-SPC-13/1B       1/39 \\n  \\nINSTITUTO NACIONAL DE DEFENSA DE LA COMPETENCIA Y DE LA PROTECCIÓN DE LA PROPIEDAD INTELECTUAL  \\nCalle De la Prosa 104, San Borja, Lima 41 - Perú Telf: 224 7800 / Fax: 224 0348  \\nE-mail: postmaster@indecopi.gob.pe / Web: www.indecopi.gob.pe  \\nPROCEDENCIA  : COMI', '/content/DISCRIMINACIÓN(1)/DISCRIMINACIαN/DISCRIMINACION 7.pdf': 'TRIBUNAL DE DEFENSA DE LA COMPETENCIA  \\n Y DE LA PROPIEDAD INTELECTUAL  \\n           Sala Especializada en Protección al Consumidor  \\n \\nRESOLUCIÓN 1848 -2023/SPC -INDECOPI  \\n \\nEXPEDIENTE 0879 -2020/CC2  \\n \\n \\n \\nM-SPC-13/1B     1/25 \\n \\n \\nINSTITUTO NACIONAL DE DEFENSA DE LA COMPETENCIA Y DE LA PROTECCIÓN DE LA PROPIEDAD INTELECTUAL  \\nCalle De la Prosa 104, San Borja, Lima 41 - Perú Telf: 224 7800 / Fax: 224 0348  \\nE-mail: postmaster@indecopi.gob.pe / Web: www.indecopi.gob.pe  \\nPROCEDENCIA  :  COMISI', '/content/DISCRIMINACIÓN(1)/DISCRIMINACIαN/DISCRIMINACION3.pdf': ' TRIBUNAL DE DEFENSA DE LA COMPETENCIA  \\nY DE LA PROPIEDAD INTELECTUAL  \\nSala Especi alizada en Protección al Consumidor  \\nRESOLUCIÓN 2129 -2018/SPC -INDECOPI  \\n \\nEXPEDIENTE 227 -2017/CPC -INDECOPI -PIU \\n \\n  \\n \\nM-SPC-13/1B                                                                     1/24 PROCEDENC IA :   COMISIÓN DE LA OFICINA REGIONAL DEL \\nINDECOPI DE PIURA  \\nPROCEDIMIENTO  : DE PARTE  \\nDENUNCIANTE  : VANIA MAITÉ GALA PALMERO  \\nDENUNCIAD O : HOSPEDAJE ESTRELLA SOL Y LUNA  E.I.R.L.  \\nMATE', '/content/DISCRIMINACIÓN(1)/DISCRIMINACIαN/DISCRIMINACION2.pdf': ' \\n \\n1 \\nM-CPC -05/01 \\n \\nINSTITUTO NACIONAL DE DEFENSA DE LA C OMPETENCIA Y DE LA PROTECCIÓN DE L A PROPIEDAD INTELECT UAL  \\nCalle De la Prosa 104, San Borja, Lima 41 - Perú T elf: 224 7800 / Fax: 224 0348  \\nE-mail: postmaster@indecopi.gob.pe / Web: www.indecopi.gob.pe  \\n \\nCOMISIÓN DE PROTECCIÓN AL CONSUMIDOR N° 2  \\nSEDE CENTRA L  \\nEXPEDIENTE N° 884-2018/ CC2 \\n \\nRESOLUCIÓN FINAL N° 0330 -2023/CC2  \\n \\nDENUNCIANTE  : ASOCIACIÓN PERUANA DE CONSUMIDORES  \\n   Y USUARIOS – ASPEC (ASPEC)  \\n     (LA ASOCI', '/content/DISCRIMINACIÓN(1)/DISCRIMINACIαN/DISCRIMINACION8.pdf': ' \\n COMISIÓN  DE LA OFICINA REGIONAL DEL  \\n INDECOPI ÁNCASH SEDE CHIMBOTE     \\n \\nEXPEDIENTE Nº 0 095-2023/CPC -INDECOPI -CHT \\n \\n \\n1 de 31 \\n \\nINSTITUTO NACIONAL DE DEFENSA DE LA COMPETENCIA Y DE LA PROTECCIÓN DE LA PROPIEDAD INTELECTUAL  \\nJr. Elías Aguirre Nº 130, Chimbote – Perú / Teléfonos: 0 800 4 40 40 opción 6 anexo 4301; 01 – 224 7777 opción 6 anexo 4301  \\nE-mail: msanchezq@indecopi.gob.pe / Web: www.indecopi.gob.pe  \\n \\nM-CPC -06/02  \\nRESOLUCIÓN FINAL Nº 0 168-2024/INDECOPI -CHT \\n           ', '/content/DISCRIMINACIÓN(1)/DISCRIMINACIαN/DISCRIMINACION9.pdf': 'COMISIÓN DE LA OFICINA REGIONAL\\nDEL INDECOPI DE JUNÍN\\nEXPEDIENTE Nº 248 -2023 /CPC -INDECOPI -JUN\\nM-CPC -06/01\\n1/26\\nINSTITUTO NACIONAL DE DEFENSA DE LA  COMPETENCIA Y DE LA PROTECCIÓN DE LA PROPIEDAD INTELECTUAL\\nPasaje Comercial Nº474–El Tambo, Huancayo, Junín , Perú /Línea gratuita para provincias el 0 -800-44040 (desde un\\nteléfono fijo) o para Lima y Callao con el 01 -2247777 (desde un celular)\\nE-mail: kalvarado@indecopi.gob.pe / Web: www.indecopi.gob.peRESOLUCIÓN FINAL N° 219-2024/INDECOPI -J'}\n"
          ]
        }
      ]
    },
    {
      "cell_type": "code",
      "source": [
        "def clean_text(text):\n",
        "    text = re.sub(r'\\s+', ' ', text)  # Eliminar espacios extra\n",
        "    text = re.sub(r'[^\\w\\s]', '', text)  # Eliminar signos de puntuación\n",
        "    text = text.lower()  # Convertir a minúsculas\n",
        "    return text"
      ],
      "metadata": {
        "id": "fqa7wmOwXYST"
      },
      "execution_count": null,
      "outputs": []
    },
    {
      "cell_type": "code",
      "source": [
        "cleaned_texts = {k: clean_text(v) for k, v in pdf_texts.items()}"
      ],
      "metadata": {
        "id": "mCWE_CtTXcAr"
      },
      "execution_count": null,
      "outputs": []
    },
    {
      "cell_type": "code",
      "source": [
        "custom_stopwords = set([\n",
        "    \"de\", \"la\", \"que\", \"el\", \"en\", \"y\", \"a\", \"los\", \"del\", \"se\", \"las\", \"por\", \"un\", \"para\", \"con\",\n",
        "    \"no\", \"una\", \"su\", \"al\", \"es\", \"lo\", \"como\", \"más\", \"pero\", \"sus\", \"le\", \"ya\", \"o\", \"fue\", \"este\",\n",
        "    \"ha\", \"sí\", \"porque\", \"esta\", \"entre\", \"cuando\", \"muy\", \"sin\", \"sobre\", \"ser\", \"tiene\", \"también\"\n",
        "])"
      ],
      "metadata": {
        "id": "piZiBiBpXfZj"
      },
      "execution_count": null,
      "outputs": []
    },
    {
      "cell_type": "code",
      "source": [
        "vectorizer = TfidfVectorizer(stop_words=custom_stopwords)\n",
        "X = vectorizer.fit_transform(cleaned_texts.values())"
      ],
      "metadata": {
        "colab": {
          "base_uri": "https://localhost:8080/",
          "height": 338
        },
        "id": "cY0CMoyTXkET",
        "outputId": "06cdd33c-8a5b-426e-8ebe-72902f2aa131"
      },
      "execution_count": null,
      "outputs": [
        {
          "output_type": "error",
          "ename": "InvalidParameterError",
          "evalue": "The 'stop_words' parameter of TfidfVectorizer must be a str among {'english'}, an instance of 'list' or None. Got {'entre', 'para', 'es', 'ha', 'sí', 'por', 'con', 'los', 'o', 'también', 'las', 'el', 'fue', 'como', 'en', 'sus', 'ser', 'del', 'tiene', 'le', 'más', 'una', 'este', 'que', 'muy', 'porque', 'esta', 'lo', 'de', 'a', 'la', 'ya', 'su', 'al', 'cuando', 'se', 'y', 'pero', 'sobre', 'sin', 'un', 'no'} instead.",
          "traceback": [
            "\u001b[0;31m---------------------------------------------------------------------------\u001b[0m",
            "\u001b[0;31mInvalidParameterError\u001b[0m                     Traceback (most recent call last)",
            "\u001b[0;32m<ipython-input-42-108134a5116d>\u001b[0m in \u001b[0;36m<cell line: 0>\u001b[0;34m()\u001b[0m\n\u001b[1;32m      1\u001b[0m \u001b[0mvectorizer\u001b[0m \u001b[0;34m=\u001b[0m \u001b[0mTfidfVectorizer\u001b[0m\u001b[0;34m(\u001b[0m\u001b[0mstop_words\u001b[0m\u001b[0;34m=\u001b[0m\u001b[0mcustom_stopwords\u001b[0m\u001b[0;34m)\u001b[0m\u001b[0;34m\u001b[0m\u001b[0;34m\u001b[0m\u001b[0m\n\u001b[0;32m----> 2\u001b[0;31m \u001b[0mX\u001b[0m \u001b[0;34m=\u001b[0m \u001b[0mvectorizer\u001b[0m\u001b[0;34m.\u001b[0m\u001b[0mfit_transform\u001b[0m\u001b[0;34m(\u001b[0m\u001b[0mcleaned_texts\u001b[0m\u001b[0;34m.\u001b[0m\u001b[0mvalues\u001b[0m\u001b[0;34m(\u001b[0m\u001b[0;34m)\u001b[0m\u001b[0;34m)\u001b[0m\u001b[0;34m\u001b[0m\u001b[0;34m\u001b[0m\u001b[0m\n\u001b[0m",
            "\u001b[0;32m/usr/local/lib/python3.11/dist-packages/sklearn/feature_extraction/text.py\u001b[0m in \u001b[0;36mfit_transform\u001b[0;34m(self, raw_documents, y)\u001b[0m\n\u001b[1;32m   2102\u001b[0m             \u001b[0msublinear_tf\u001b[0m\u001b[0;34m=\u001b[0m\u001b[0mself\u001b[0m\u001b[0;34m.\u001b[0m\u001b[0msublinear_tf\u001b[0m\u001b[0;34m,\u001b[0m\u001b[0;34m\u001b[0m\u001b[0;34m\u001b[0m\u001b[0m\n\u001b[1;32m   2103\u001b[0m         )\n\u001b[0;32m-> 2104\u001b[0;31m         \u001b[0mX\u001b[0m \u001b[0;34m=\u001b[0m \u001b[0msuper\u001b[0m\u001b[0;34m(\u001b[0m\u001b[0;34m)\u001b[0m\u001b[0;34m.\u001b[0m\u001b[0mfit_transform\u001b[0m\u001b[0;34m(\u001b[0m\u001b[0mraw_documents\u001b[0m\u001b[0;34m)\u001b[0m\u001b[0;34m\u001b[0m\u001b[0;34m\u001b[0m\u001b[0m\n\u001b[0m\u001b[1;32m   2105\u001b[0m         \u001b[0mself\u001b[0m\u001b[0;34m.\u001b[0m\u001b[0m_tfidf\u001b[0m\u001b[0;34m.\u001b[0m\u001b[0mfit\u001b[0m\u001b[0;34m(\u001b[0m\u001b[0mX\u001b[0m\u001b[0;34m)\u001b[0m\u001b[0;34m\u001b[0m\u001b[0;34m\u001b[0m\u001b[0m\n\u001b[1;32m   2106\u001b[0m         \u001b[0;31m# X is already a transformed view of raw_documents so\u001b[0m\u001b[0;34m\u001b[0m\u001b[0;34m\u001b[0m\u001b[0m\n",
            "\u001b[0;32m/usr/local/lib/python3.11/dist-packages/sklearn/base.py\u001b[0m in \u001b[0;36mwrapper\u001b[0;34m(estimator, *args, **kwargs)\u001b[0m\n\u001b[1;32m   1380\u001b[0m \u001b[0;34m\u001b[0m\u001b[0m\n\u001b[1;32m   1381\u001b[0m             \u001b[0;32mif\u001b[0m \u001b[0;32mnot\u001b[0m \u001b[0mglobal_skip_validation\u001b[0m \u001b[0;32mand\u001b[0m \u001b[0;32mnot\u001b[0m \u001b[0mpartial_fit_and_fitted\u001b[0m\u001b[0;34m:\u001b[0m\u001b[0;34m\u001b[0m\u001b[0;34m\u001b[0m\u001b[0m\n\u001b[0;32m-> 1382\u001b[0;31m                 \u001b[0mestimator\u001b[0m\u001b[0;34m.\u001b[0m\u001b[0m_validate_params\u001b[0m\u001b[0;34m(\u001b[0m\u001b[0;34m)\u001b[0m\u001b[0;34m\u001b[0m\u001b[0;34m\u001b[0m\u001b[0m\n\u001b[0m\u001b[1;32m   1383\u001b[0m \u001b[0;34m\u001b[0m\u001b[0m\n\u001b[1;32m   1384\u001b[0m             with config_context(\n",
            "\u001b[0;32m/usr/local/lib/python3.11/dist-packages/sklearn/base.py\u001b[0m in \u001b[0;36m_validate_params\u001b[0;34m(self)\u001b[0m\n\u001b[1;32m    434\u001b[0m         \u001b[0maccepted\u001b[0m \u001b[0mconstraints\u001b[0m\u001b[0;34m.\u001b[0m\u001b[0;34m\u001b[0m\u001b[0;34m\u001b[0m\u001b[0m\n\u001b[1;32m    435\u001b[0m         \"\"\"\n\u001b[0;32m--> 436\u001b[0;31m         validate_parameter_constraints(\n\u001b[0m\u001b[1;32m    437\u001b[0m             \u001b[0mself\u001b[0m\u001b[0;34m.\u001b[0m\u001b[0m_parameter_constraints\u001b[0m\u001b[0;34m,\u001b[0m\u001b[0;34m\u001b[0m\u001b[0;34m\u001b[0m\u001b[0m\n\u001b[1;32m    438\u001b[0m             \u001b[0mself\u001b[0m\u001b[0;34m.\u001b[0m\u001b[0mget_params\u001b[0m\u001b[0;34m(\u001b[0m\u001b[0mdeep\u001b[0m\u001b[0;34m=\u001b[0m\u001b[0;32mFalse\u001b[0m\u001b[0;34m)\u001b[0m\u001b[0;34m,\u001b[0m\u001b[0;34m\u001b[0m\u001b[0;34m\u001b[0m\u001b[0m\n",
            "\u001b[0;32m/usr/local/lib/python3.11/dist-packages/sklearn/utils/_param_validation.py\u001b[0m in \u001b[0;36mvalidate_parameter_constraints\u001b[0;34m(parameter_constraints, params, caller_name)\u001b[0m\n\u001b[1;32m     96\u001b[0m                 )\n\u001b[1;32m     97\u001b[0m \u001b[0;34m\u001b[0m\u001b[0m\n\u001b[0;32m---> 98\u001b[0;31m             raise InvalidParameterError(\n\u001b[0m\u001b[1;32m     99\u001b[0m                 \u001b[0;34mf\"The {param_name!r} parameter of {caller_name} must be\"\u001b[0m\u001b[0;34m\u001b[0m\u001b[0;34m\u001b[0m\u001b[0m\n\u001b[1;32m    100\u001b[0m                 \u001b[0;34mf\" {constraints_str}. Got {param_val!r} instead.\"\u001b[0m\u001b[0;34m\u001b[0m\u001b[0;34m\u001b[0m\u001b[0m\n",
            "\u001b[0;31mInvalidParameterError\u001b[0m: The 'stop_words' parameter of TfidfVectorizer must be a str among {'english'}, an instance of 'list' or None. Got {'entre', 'para', 'es', 'ha', 'sí', 'por', 'con', 'los', 'o', 'también', 'las', 'el', 'fue', 'como', 'en', 'sus', 'ser', 'del', 'tiene', 'le', 'más', 'una', 'este', 'que', 'muy', 'porque', 'esta', 'lo', 'de', 'a', 'la', 'ya', 'su', 'al', 'cuando', 'se', 'y', 'pero', 'sobre', 'sin', 'un', 'no'} instead."
          ]
        }
      ]
    },
    {
      "cell_type": "code",
      "source": [
        "custom_stopwords = [\n",
        "    \"de\", \"la\", \"que\", \"el\", \"en\", \"y\", \"a\", \"los\", \"del\", \"se\", \"las\", \"por\", \"un\", \"para\", \"con\",\n",
        "    \"no\", \"una\", \"su\", \"al\", \"es\", \"lo\", \"como\", \"más\", \"pero\", \"sus\", \"le\", \"ya\", \"o\", \"fue\", \"este\",\n",
        "    \"ha\", \"sí\", \"porque\", \"esta\", \"entre\", \"cuando\", \"muy\", \"sin\", \"sobre\", \"ser\", \"tiene\", \"también\"\n",
        "]\n",
        "\n",
        "vectorizer = TfidfVectorizer(stop_words=custom_stopwords)  # Now using a list for stop_words\n",
        "X = vectorizer.fit_transform(cleaned_texts.values())"
      ],
      "metadata": {
        "id": "lolNxi75Xzoc"
      },
      "execution_count": null,
      "outputs": []
    },
    {
      "cell_type": "code",
      "source": [
        "num_clusters = 8"
      ],
      "metadata": {
        "id": "5c_QssC0X1MU"
      },
      "execution_count": null,
      "outputs": []
    },
    {
      "cell_type": "code",
      "source": [
        "kmeans = KMeans(n_clusters=num_clusters, random_state=42, n_init=10)\n",
        "clusters = kmeans.fit_predict(X)"
      ],
      "metadata": {
        "id": "OVxe1OIqX4n0"
      },
      "execution_count": null,
      "outputs": []
    },
    {
      "cell_type": "code",
      "source": [
        "cluster_results = {file: cluster for file, cluster in zip(cleaned_texts.keys(), clusters)}\n",
        "\n",
        "# Convertir a DataFrame\n",
        "df_clusters = pd.DataFrame(list(cluster_results.items()), columns=[\"Archivo\", \"Cluster\"])"
      ],
      "metadata": {
        "id": "T42uO_MsX8hU"
      },
      "execution_count": null,
      "outputs": []
    },
    {
      "cell_type": "code",
      "source": [
        "categorias = {\n",
        "    0: \"Discriminación\",\n",
        "    1: \"Mujer\",\n",
        "    2: \"Género\",\n",
        "    3: \"Sexualidad\",\n",
        "    4: \"Edad\",\n",
        "    5: \"Clase Social\",\n",
        "    6: \"Cuestiones Políticas\",\n",
        "    7: \"Cultura\"\n",
        "}"
      ],
      "metadata": {
        "id": "0vy9U9sdYAXs"
      },
      "execution_count": null,
      "outputs": []
    },
    {
      "cell_type": "code",
      "source": [
        "df_clusters[\"Categoría\"] = df_clusters[\"Cluster\"].map(categorias)\n",
        "df_clusters[\"Categoría\"] = df_clusters[\"Cluster\"].map(categorias)\n",
        "\n",
        "# Mostrar los resultados\n",
        "print(df_clusters)"
      ],
      "metadata": {
        "colab": {
          "base_uri": "https://localhost:8080/"
        },
        "id": "HrpvUN_aYD5F",
        "outputId": "e9192b77-58ba-4961-f163-fc999fbf9e4a"
      },
      "execution_count": null,
      "outputs": [
        {
          "output_type": "stream",
          "name": "stdout",
          "text": [
            "                                             Archivo  Cluster  \\\n",
            "0  /content/DISCRIMINACIÓN(1)/DISCRIMINACIαN/DISC...        1   \n",
            "1  /content/DISCRIMINACIÓN(1)/DISCRIMINACIαN/DISC...        1   \n",
            "2  /content/DISCRIMINACIÓN(1)/DISCRIMINACIαN/DISC...        4   \n",
            "3  /content/DISCRIMINACIÓN(1)/DISCRIMINACIαN/DISC...        2   \n",
            "4  /content/DISCRIMINACIÓN(1)/DISCRIMINACIαN/DISC...        7   \n",
            "5  /content/DISCRIMINACIÓN(1)/DISCRIMINACIαN/DISC...        1   \n",
            "6  /content/DISCRIMINACIÓN(1)/DISCRIMINACIαN/DISC...        5   \n",
            "7  /content/DISCRIMINACIÓN(1)/DISCRIMINACIαN/DISC...        3   \n",
            "8  /content/DISCRIMINACIÓN(1)/DISCRIMINACIαN/DISC...        0   \n",
            "9  /content/DISCRIMINACIÓN(1)/DISCRIMINACIαN/DISC...        6   \n",
            "\n",
            "              Categoría  \n",
            "0                 Mujer  \n",
            "1                 Mujer  \n",
            "2                  Edad  \n",
            "3                Género  \n",
            "4               Cultura  \n",
            "5                 Mujer  \n",
            "6          Clase Social  \n",
            "7            Sexualidad  \n",
            "8        Discriminación  \n",
            "9  Cuestiones Políticas  \n"
          ]
        }
      ]
    },
    {
      "cell_type": "code",
      "source": [
        "df_clusters.to_csv(\"resultados_clustering.csv\", index=False)\n",
        "\n",
        "# Para descargarlo en Colab\n",
        "from google.colab import files\n",
        "files.download(\"resultados_clustering.csv\")"
      ],
      "metadata": {
        "colab": {
          "base_uri": "https://localhost:8080/",
          "height": 17
        },
        "id": "UBr0KNRtYJEV",
        "outputId": "0ccdcf17-b30c-44f4-df2b-5e34b049b368"
      },
      "execution_count": null,
      "outputs": [
        {
          "output_type": "display_data",
          "data": {
            "text/plain": [
              "<IPython.core.display.Javascript object>"
            ],
            "application/javascript": [
              "\n",
              "    async function download(id, filename, size) {\n",
              "      if (!google.colab.kernel.accessAllowed) {\n",
              "        return;\n",
              "      }\n",
              "      const div = document.createElement('div');\n",
              "      const label = document.createElement('label');\n",
              "      label.textContent = `Downloading \"${filename}\": `;\n",
              "      div.appendChild(label);\n",
              "      const progress = document.createElement('progress');\n",
              "      progress.max = size;\n",
              "      div.appendChild(progress);\n",
              "      document.body.appendChild(div);\n",
              "\n",
              "      const buffers = [];\n",
              "      let downloaded = 0;\n",
              "\n",
              "      const channel = await google.colab.kernel.comms.open(id);\n",
              "      // Send a message to notify the kernel that we're ready.\n",
              "      channel.send({})\n",
              "\n",
              "      for await (const message of channel.messages) {\n",
              "        // Send a message to notify the kernel that we're ready.\n",
              "        channel.send({})\n",
              "        if (message.buffers) {\n",
              "          for (const buffer of message.buffers) {\n",
              "            buffers.push(buffer);\n",
              "            downloaded += buffer.byteLength;\n",
              "            progress.value = downloaded;\n",
              "          }\n",
              "        }\n",
              "      }\n",
              "      const blob = new Blob(buffers, {type: 'application/binary'});\n",
              "      const a = document.createElement('a');\n",
              "      a.href = window.URL.createObjectURL(blob);\n",
              "      a.download = filename;\n",
              "      div.appendChild(a);\n",
              "      a.click();\n",
              "      div.remove();\n",
              "    }\n",
              "  "
            ]
          },
          "metadata": {}
        },
        {
          "output_type": "display_data",
          "data": {
            "text/plain": [
              "<IPython.core.display.Javascript object>"
            ],
            "application/javascript": [
              "download(\"download_b7c7f7b4-4a05-4ce6-a29c-9b2cd6dd9321\", \"resultados_clustering.csv\", 789)"
            ]
          },
          "metadata": {}
        }
      ]
    },
    {
      "cell_type": "code",
      "source": [
        "category_counts = df_clusters[\"Categoría\"].value_counts()\n",
        "\n",
        "# Crear un gráfico de barras para visualizar la distribución de documentos por categoría\n",
        "plt.figure(figsize=(10, 6))\n",
        "plt.bar(category_counts.index, category_counts.values)\n",
        "plt.xlabel(\"Categoría\")\n",
        "plt.ylabel(\"Cantidad de Documentos\")\n",
        "plt.title(\"Distribución de Documentos por Categoría\")\n",
        "plt.xticks(rotation=45, ha=\"right\")\n",
        "plt.show()"
      ],
      "metadata": {
        "colab": {
          "base_uri": "https://localhost:8080/",
          "height": 658
        },
        "id": "D19O_wmWYSb0",
        "outputId": "9cabb211-bb31-4cd9-b4fe-525a7b558d62"
      },
      "execution_count": null,
      "outputs": [
        {
          "output_type": "display_data",
          "data": {
            "text/plain": [
              "<Figure size 1000x600 with 1 Axes>"
            ],
            "image/png": "[encoded data removed]"
          },
          "metadata": {}
        }
      ]
    },
    {
      "cell_type": "code",
      "source": [
        "!pip install PyPDF2 scikit-learn pandas matplotlib"
      ],
      "metadata": {
        "colab": {
          "base_uri": "https://localhost:8080/"
        },
        "id": "ugIHAkXuYUot",
        "outputId": "3dcd5c9d-9128-4473-8131-4345a4e07d03"
      },
      "execution_count": null,
      "outputs": [
        {
          "output_type": "stream",
          "name": "stdout",
          "text": [
            "Requirement already satisfied: PyPDF2 in /usr/local/lib/python3.11/dist-packages (3.0.1)\n",
            "Requirement already satisfied: scikit-learn in /usr/local/lib/python3.11/dist-packages (1.6.1)\n",
            "Requirement already satisfied: pandas in /usr/local/lib/python3.11/dist-packages (2.2.2)\n",
            "Requirement already satisfied: matplotlib in /usr/local/lib/python3.11/dist-packages (3.10.0)\n",
            "Requirement already satisfied: numpy>=1.19.5 in /usr/local/lib/python3.11/dist-packages (from scikit-learn) (1.26.4)\n",
            "Requirement already satisfied: scipy>=1.6.0 in /usr/local/lib/python3.11/dist-packages (from scikit-learn) (1.14.1)\n",
            "Requirement already satisfied: joblib>=1.2.0 in /usr/local/lib/python3.11/dist-packages (from scikit-learn) (1.4.2)\n",
            "Requirement already satisfied: threadpoolctl>=3.1.0 in /usr/local/lib/python3.11/dist-packages (from scikit-learn) (3.5.0)\n",
            "Requirement already satisfied: python-dateutil>=2.8.2 in /usr/local/lib/python3.11/dist-packages (from pandas) (2.8.2)\n",
            "Requirement already satisfied: pytz>=2020.1 in /usr/local/lib/python3.11/dist-packages (from pandas) (2025.1)\n",
            "Requirement already satisfied: tzdata>=2022.7 in /usr/local/lib/python3.11/dist-packages (from pandas) (2025.1)\n",
            "Requirement already satisfied: contourpy>=1.0.1 in /usr/local/lib/python3.11/dist-packages (from matplotlib) (1.3.1)\n",
            "Requirement already satisfied: cycler>=0.10 in /usr/local/lib/python3.11/dist-packages (from matplotlib) (0.12.1)\n",
            "Requirement already satisfied: fonttools>=4.22.0 in /usr/local/lib/python3.11/dist-packages (from matplotlib) (4.56.0)\n",
            "Requirement already satisfied: kiwisolver>=1.3.1 in /usr/local/lib/python3.11/dist-packages (from matplotlib) (1.4.8)\n",
            "Requirement already satisfied: packaging>=20.0 in /usr/local/lib/python3.11/dist-packages (from matplotlib) (24.2)\n",
            "Requirement already satisfied: pillow>=8 in /usr/local/lib/python3.11/dist-packages (from matplotlib) (11.1.0)\n",
            "Requirement already satisfied: pyparsing>=2.3.1 in /usr/local/lib/python3.11/dist-packages (from matplotlib) (3.2.1)\n",
            "Requirement already satisfied: six>=1.5 in /usr/local/lib/python3.11/dist-packages (from python-dateutil>=2.8.2->pandas) (1.17.0)\n"
          ]
        }
      ]
    },
    {
      "cell_type": "code",
      "source": [
        "import os\n",
        "import re\n",
        "import numpy as np\n",
        "import pandas as pd\n",
        "import matplotlib.pyplot as plt\n",
        "from PyPDF2 import PdfReader\n",
        "from sklearn.feature_extraction.text import TfidfVectorizer\n",
        "from sklearn.cluster import KMeans\n",
        "from sklearn.decomposition import PCA\n"
      ],
      "metadata": {
        "id": "GaocfmAmYr3t"
      },
      "execution_count": null,
      "outputs": []
    },
    {
      "cell_type": "code",
      "source": [
        "pca = PCA(n_components=2)\n",
        "X_pca = pca.fit_transform(X.toarray())\n"
      ],
      "metadata": {
        "id": "4Br1qMuHZF3V"
      },
      "execution_count": null,
      "outputs": []
    },
    {
      "cell_type": "code",
      "source": [
        "plt.figure(figsize=(10, 6))"
      ],
      "metadata": {
        "colab": {
          "base_uri": "https://localhost:8080/",
          "height": 52
        },
        "id": "Xnwuj8mrZKA-",
        "outputId": "956b3e51-4f79-4595-f10f-4483c55506cd"
      },
      "execution_count": null,
      "outputs": [
        {
          "output_type": "execute_result",
          "data": {
            "text/plain": [
              "<Figure size 1000x600 with 0 Axes>"
            ]
          },
          "metadata": {},
          "execution_count": 55
        },
        {
          "output_type": "display_data",
          "data": {
            "text/plain": [
              "<Figure size 1000x600 with 0 Axes>"
            ]
          },
          "metadata": {}
        }
      ]
    },
    {
      "cell_type": "code",
      "source": [
        "plt.figure(figsize=(10, 6))\n",
        "\n",
        "for cluster in range(num_clusters):\n",
        "    plt.scatter(X_pca[clusters == cluster, 0], X_pca[clusters == cluster, 1], label=f\"Cluster {cluster}\")\n",
        "\n",
        "plt.xlabel(\"Componente Principal 1\")\n",
        "plt.ylabel(\"Componente Principal 2\")\n",
        "plt.title(\"Visualización de Clusters con PCA\")\n",
        "plt.legend()\n",
        "plt.show()"
      ],
      "metadata": {
        "colab": {
          "base_uri": "https://localhost:8080/",
          "height": 564
        },
        "id": "O6SZ0jZnZM-V",
        "outputId": "3607d5f1-6d8f-4d33-d8ec-fd05162050eb"
      },
      "execution_count": null,
      "outputs": [
        {
          "output_type": "display_data",
          "data": {
            "text/plain": [
              "<Figure size 1000x600 with 1 Axes>"
            ],
            "image/png": "[encoded data removed]"
          },
          "metadata": {}
        }
      ]
    },
    {
      "cell_type": "code",
      "source": [
        "inertia = []\n",
        "k_values = range(1, 11)  # Probamos de 1 a 10 clusters\n",
        "\n",
        "for k in k_values:\n",
        "    kmeans_test = KMeans(n_clusters=k, random_state=42, n_init=10)\n",
        "    kmeans_test.fit(X)\n",
        "    inertia.append(kmeans_test.inertia_)"
      ],
      "metadata": {
        "colab": {
          "base_uri": "https://localhost:8080/"
        },
        "id": "bHzHJ5AhZSj2",
        "outputId": "771d93d0-bf16-4b23-aae9-87929d7a7fb2"
      },
      "execution_count": null,
      "outputs": [
        {
          "output_type": "stream",
          "name": "stderr",
          "text": [
            "/usr/local/lib/python3.11/dist-packages/sklearn/base.py:1389: ConvergenceWarning: Number of distinct clusters (9) found smaller than n_clusters (10). Possibly due to duplicate points in X.\n",
            "  return fit_method(estimator, *args, **kwargs)\n"
          ]
        }
      ]
    },
    {
      "cell_type": "code",
      "source": [
        "plt.figure(figsize=(8, 5))\n",
        "plt.plot(k_values, inertia, marker=\"o\", linestyle=\"-\")\n",
        "plt.xlabel(\"Número de Clusters (k)\")\n",
        "plt.ylabel(\"Inercia\")\n",
        "plt.title(\"Método del Codo para Determinar k\")\n",
        "plt.show()"
      ],
      "metadata": {
        "colab": {
          "base_uri": "https://localhost:8080/",
          "height": 488
        },
        "id": "QMb-QkZWZZx-",
        "outputId": "533621e0-a773-4721-a0d0-dabe23183d3c"
      },
      "execution_count": null,
      "outputs": [
        {
          "output_type": "display_data",
          "data": {
            "text/plain": [
              "<Figure size 800x500 with 1 Axes>"
            ],
            "image/png": "[encoded data removed]"
          },
          "metadata": {}
        }
      ]
    },
    {
      "cell_type": "code",
      "source": [
        "category_counts = df_clusters[\"Categoría\"].value_counts(normalize=True) * 100"
      ],
      "metadata": {
        "id": "BfSi_XTCj-Qb"
      },
      "execution_count": null,
      "outputs": []
    },
    {
      "cell_type": "code",
      "source": [
        "plt.figure(figsize=(8, 8))\n",
        "plt.pie(category_counts, labels=category_counts.index, autopct='%1.1f%%', startangle=140)\n",
        "plt.title(\"Proporción de Documentos por Categoría\")\n",
        "plt.show()"
      ],
      "metadata": {
        "colab": {
          "base_uri": "https://localhost:8080/",
          "height": 675
        },
        "id": "BUfJpkHmkEG9",
        "outputId": "99337d9a-bca5-496d-d15a-9481e9f88833"
      },
      "execution_count": null,
      "outputs": [
        {
          "output_type": "display_data",
          "data": {
            "text/plain": [
              "<Figure size 800x800 with 1 Axes>"
            ],
            "image/png": "[encoded data removed]"
          },
          "metadata": {}
        }
      ]
    }
  ]
}